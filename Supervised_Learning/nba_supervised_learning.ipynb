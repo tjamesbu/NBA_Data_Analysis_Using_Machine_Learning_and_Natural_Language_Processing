{
 "cells": [
  {
   "cell_type": "markdown",
   "id": "informal-spoke",
   "metadata": {},
   "source": [
    "# NBA 2023: Predicting the Winners of the Western and Eastern Conference\n",
    "Corbin Cahalan"
   ]
  },
  {
   "cell_type": "markdown",
   "id": "split-attraction",
   "metadata": {},
   "source": [
    "Every year, millions of people around the world tune in to watch their favorite NBA teams. Wouldn't it be great if you could predict how well your team will do in the 2022-2023 season? With our supervised models below, we attempt to predict how each team stacks up against the rest. "
   ]
  },
  {
   "cell_type": "code",
   "execution_count": 1,
   "id": "respected-romania",
   "metadata": {},
   "outputs": [
    {
     "name": "stdout",
     "output_type": "stream",
     "text": [
      "Collecting xgboost\n",
      "  Downloading xgboost-1.6.2-py3-none-manylinux2014_x86_64.whl (255.9 MB)\n",
      "\u001b[K     |████████████████████████████████| 255.9 MB 144 kB/s s eta 0:00:01\n",
      "\u001b[?25hRequirement already satisfied: numpy in /opt/conda/lib/python3.7/site-packages (from xgboost) (1.20.1)\n",
      "Requirement already satisfied: scipy in /opt/conda/lib/python3.7/site-packages (from xgboost) (1.4.1)\n",
      "Installing collected packages: xgboost\n",
      "Successfully installed xgboost-1.6.2\n"
     ]
    }
   ],
   "source": [
    "## library imports\n",
    "\n",
    "# api libraries\n",
    "import requests\n",
    "from time import sleep\n",
    "from datetime import date\n",
    "\n",
    "# data manipulation and visualization libraries\n",
    "import pandas as pd\n",
    "import numpy as np\n",
    "import matplotlib.pyplot as plt\n",
    "import seaborn as sns\n",
    "import functools as ft\n",
    "\n",
    "# supervised learning libraries\n",
    "from sklearn.linear_model import LogisticRegression\n",
    "from sklearn.ensemble import RandomForestClassifier\n",
    "from sklearn.model_selection import train_test_split\n",
    "from sklearn.model_selection import RandomizedSearchCV\n",
    "from sklearn.pipeline import Pipeline\n",
    "from sklearn.preprocessing import RobustScaler\n",
    "from sklearn.metrics import accuracy_score\n",
    "from sklearn.metrics import confusion_matrix\n",
    "from sklearn.metrics import roc_curve\n",
    "from sklearn.metrics import roc_auc_score\n",
    "from sklearn.metrics import classification_report\n",
    "\n",
    "!pip install xgboost\n",
    "import xgboost as xgb"
   ]
  },
  {
   "cell_type": "markdown",
   "id": "specialized-workshop",
   "metadata": {},
   "source": [
    "## Data Extraction"
   ]
  },
  {
   "cell_type": "markdown",
   "id": "separate-preference",
   "metadata": {},
   "source": [
    "In order to create our supervised learning model, we extracted data using the <a target=\"_blank\" href=\"https://www.balldontlie.io/\">balldontlie API</a> for historical data and <a href=\"https://www.basketball-reference.com/leagues/NBA_2023_games.html\" targe=\"_blank\">Basketball Reference</a> for 2023 season games. To predict how many regular season games each team will win in the 2022-2023 season, we chose to grab the last 7 seasons' worth of data. This way, we have enough games (rows of data) to work with as input for our supervised learning model."
   ]
  },
  {
   "cell_type": "markdown",
   "id": "hazardous-powell",
   "metadata": {},
   "source": [
    "### API Function for Historical Games and Stats Data"
   ]
  },
  {
   "cell_type": "markdown",
   "id": "virtual-chick",
   "metadata": {},
   "source": [
    "To make calls to the balldontlie API efficiently for historical games and stats data, we've created a function that takes the API URL, seasons, and a few other inputs to extract the appropriate data."
   ]
  },
  {
   "cell_type": "code",
   "execution_count": null,
   "id": "enormous-temple",
   "metadata": {},
   "outputs": [],
   "source": [
    "def get_api_data(api_url, post_season=False, num_seasons=7, per_page=100, api_note=10):\n",
    "    \n",
    "    # get seasons string\n",
    "    year_strings_list = []\n",
    "    for num in range(num_seasons):\n",
    "        year_strings_list.append(\"seasons[]=\"+str(int(date.today().year) - (num+1)))\n",
    "    \n",
    "    seasons = '&'.join(map(str, year_strings_list))\n",
    "    \n",
    "    # get full api url\n",
    "    full_url = str(api_url) + \"?postseason=\" + str(post_season) + \"&per_page=\" + str(per_page) + \"&\" + seasons\n",
    "    \n",
    "    # make first api call\n",
    "    response = requests.get(full_url,verify=False)\n",
    "    data = response.json()\n",
    "    \n",
    "    \n",
    "    total_results = [] #initialize with empty list\n",
    "    total_results = total_results + data['data'] #first page of results\n",
    "    \n",
    "    print(\"Downloading API data from\",str(full_url))\n",
    "    # Loop through API pages for full dataset\n",
    "    \n",
    "    while data['meta']['next_page'] is not None:\n",
    "        next_page = \"page=\"+str(data['meta']['next_page'])\n",
    "        next_api_url = full_url+\"&\"+next_page\n",
    "        response = requests.get(next_api_url,verify=False)\n",
    "        data = response.json()\n",
    "        \n",
    "        # Store the current page of results\n",
    "        total_results = total_results + data['data']\n",
    "        \n",
    "        #print a line each 10 pages that have been collected\n",
    "        try:\n",
    "            if data['meta']['next_page'] % api_note == 0:\n",
    "                print(\"Have collected all pages up to page\", data['meta']['next_page'])\n",
    "        except:\n",
    "            pass\n",
    "        \n",
    "        #add a second break to slow down your api request\n",
    "        sleep(1)\n",
    "        \n",
    "    print(\"Received\", len(total_results), \"total results\")\n",
    "    \n",
    "    return pd.json_normalize(total_results)"
   ]
  },
  {
   "cell_type": "markdown",
   "id": "offshore-compression",
   "metadata": {},
   "source": [
    "#### Get Game Data for 2015-2021 NBA Seasons"
   ]
  },
  {
   "cell_type": "markdown",
   "id": "suffering-positive",
   "metadata": {},
   "source": [
    "The <a href=\"https://www.balldontlie.io/#games\" target=\"_blank\">games API</a> allows us to collect the high level game points per team. Using this API, we can extract which team won a game, whether the winning team was the home or visiting team, and a few other fields."
   ]
  },
  {
   "cell_type": "code",
   "execution_count": null,
   "id": "italian-irrigation",
   "metadata": {},
   "outputs": [],
   "source": [
    "game_api = \"https://www.balldontlie.io/api/v1/games\""
   ]
  },
  {
   "cell_type": "code",
   "execution_count": null,
   "id": "pregnant-plaza",
   "metadata": {},
   "outputs": [],
   "source": [
    "regular_season_games = get_api_data(game_api, post_season=False, num_seasons=7, per_page=100, api_note=10)"
   ]
  },
  {
   "cell_type": "code",
   "execution_count": null,
   "id": "illegal-finance",
   "metadata": {},
   "outputs": [],
   "source": [
    "regular_season_games.head()"
   ]
  },
  {
   "cell_type": "code",
   "execution_count": null,
   "id": "breathing-adrian",
   "metadata": {},
   "outputs": [],
   "source": [
    "regular_season_games.columns"
   ]
  },
  {
   "cell_type": "code",
   "execution_count": null,
   "id": "brave-relative",
   "metadata": {},
   "outputs": [],
   "source": [
    "#create a csv to save api results\n",
    "regular_season_games.to_csv('regular_season_games.csv')"
   ]
  },
  {
   "cell_type": "markdown",
   "id": "diverse-edmonton",
   "metadata": {},
   "source": [
    "#### Get Player Statistics per Game from 2015-2021 NBA Seasons"
   ]
  },
  {
   "cell_type": "markdown",
   "id": "muslim-bradford",
   "metadata": {},
   "source": [
    "The <a href=\"https://www.balldontlie.io/#stats\" target=\"_blank\">stats API</a> allows us to collect the player-level stats per game. Using this API, we can transform player-level stats into team-level stats per game, such as team 3-point percentage, team number of steals or rebounds, and so on."
   ]
  },
  {
   "cell_type": "code",
   "execution_count": null,
   "id": "nasty-verse",
   "metadata": {},
   "outputs": [],
   "source": [
    "stats_api = \"https://www.balldontlie.io/api/v1/stats\""
   ]
  },
  {
   "cell_type": "code",
   "execution_count": null,
   "id": "prime-classics",
   "metadata": {},
   "outputs": [],
   "source": [
    "regular_season_stats = get_game_data(stats_api, post_season=False, num_seasons=7, per_page=100, api_note=100)"
   ]
  },
  {
   "cell_type": "code",
   "execution_count": null,
   "id": "informational-humidity",
   "metadata": {},
   "outputs": [],
   "source": [
    "regular_season_stats.head()"
   ]
  },
  {
   "cell_type": "code",
   "execution_count": null,
   "id": "juvenile-capability",
   "metadata": {},
   "outputs": [],
   "source": [
    "regular_season_stats.columns"
   ]
  },
  {
   "cell_type": "code",
   "execution_count": null,
   "id": "outstanding-basin",
   "metadata": {},
   "outputs": [],
   "source": [
    "#create a csv to save api results\n",
    "regular_season_stats.to_csv('regular_season_stats.csv')"
   ]
  },
  {
   "cell_type": "markdown",
   "id": "forced-arrival",
   "metadata": {},
   "source": [
    "#### Get Team Info"
   ]
  },
  {
   "cell_type": "markdown",
   "id": "eligible-school",
   "metadata": {},
   "source": [
    "We will also need a table with each team's name, team id, etc. This will be useful post-prediction for adding team ids to each 2023 game. The <a href=\"https://www.balldontlie.io/#teams\" target=\"_blank\">teams API</a> allows us to collect this info. Because there are only 30 teams in the NBA, we can just do a simple API call without the API function created above. The only caveat is that the API has a different name for the LA Clippers, so we just need to replace the name with what is used by <a href=\"https://www.basketball-reference.com/leagues/NBA_2023_games.html\" targe=\"_blank\">Basketball Reference</a> (our source for 2023 season games info)."
   ]
  },
  {
   "cell_type": "code",
   "execution_count": null,
   "id": "tracked-papua",
   "metadata": {},
   "outputs": [],
   "source": [
    "teams_api = 'https://www.balldontlie.io/api/v1/teams'\n",
    "response = requests.get(teams_api,verify=False)\n",
    "data = response.json()\n",
    "team_info = pd.json_normalize(data['data'])\n",
    "\n",
    "#adjust the name of the LA Clippers from the API to match with Los Angeles Clippers from Basketball Reference\n",
    "team_info_cleaned = team_info.replace(\"LA Clippers\", \"Los Angeles Clippers\")"
   ]
  },
  {
   "cell_type": "code",
   "execution_count": null,
   "id": "gorgeous-western",
   "metadata": {},
   "outputs": [],
   "source": [
    "team_info_cleaned.head()"
   ]
  },
  {
   "cell_type": "code",
   "execution_count": null,
   "id": "geological-salmon",
   "metadata": {},
   "outputs": [],
   "source": [
    "team_info_cleaned.columns"
   ]
  },
  {
   "cell_type": "code",
   "execution_count": null,
   "id": "varied-karma",
   "metadata": {},
   "outputs": [],
   "source": [
    "#create a csv to save api results\n",
    "team_info_cleaned.to_csv('team_info.csv')"
   ]
  },
  {
   "cell_type": "markdown",
   "id": "entitled-worth",
   "metadata": {},
   "source": [
    "#### Get 2023 Games Schedule"
   ]
  },
  {
   "cell_type": "markdown",
   "id": "conscious-personal",
   "metadata": {},
   "source": [
    "I was able to download this season's games from <a href=\"https://www.basketball-reference.com/leagues/NBA_2023_games.html\" targe=\"_blank\">Basketball Reference</a>. No scraping or API calls needed.\n"
   ]
  },
  {
   "cell_type": "code",
   "execution_count": 2,
   "id": "consecutive-modification",
   "metadata": {},
   "outputs": [],
   "source": [
    "games_2023 = pd.read_csv('games_2023.csv')\n",
    "\n",
    "#rename columns to be more user friendly\n",
    "games_2023.rename(columns={\"Date\": \"date\",\"Start (ET)\":\"time_et\",\"Visitor/Neutral\":\"away_team\",\n",
    "                           \"Home/Neutral\":\"home_team\"}, inplace=True)"
   ]
  },
  {
   "cell_type": "code",
   "execution_count": 3,
   "id": "headed-polyester",
   "metadata": {},
   "outputs": [
    {
     "data": {
      "text/html": [
       "<div>\n",
       "<style scoped>\n",
       "    .dataframe tbody tr th:only-of-type {\n",
       "        vertical-align: middle;\n",
       "    }\n",
       "\n",
       "    .dataframe tbody tr th {\n",
       "        vertical-align: top;\n",
       "    }\n",
       "\n",
       "    .dataframe thead th {\n",
       "        text-align: right;\n",
       "    }\n",
       "</style>\n",
       "<table border=\"1\" class=\"dataframe\">\n",
       "  <thead>\n",
       "    <tr style=\"text-align: right;\">\n",
       "      <th></th>\n",
       "      <th>date</th>\n",
       "      <th>time_et</th>\n",
       "      <th>away_team</th>\n",
       "      <th>home_team</th>\n",
       "    </tr>\n",
       "  </thead>\n",
       "  <tbody>\n",
       "    <tr>\n",
       "      <th>0</th>\n",
       "      <td>Wed Oct 26 2022</td>\n",
       "      <td>8:00p</td>\n",
       "      <td>San Antonio Spurs</td>\n",
       "      <td>Minnesota Timberwolves</td>\n",
       "    </tr>\n",
       "    <tr>\n",
       "      <th>1</th>\n",
       "      <td>Wed Oct 26 2022</td>\n",
       "      <td>7:30p</td>\n",
       "      <td>Philadelphia 76ers</td>\n",
       "      <td>Toronto Raptors</td>\n",
       "    </tr>\n",
       "    <tr>\n",
       "      <th>2</th>\n",
       "      <td>Wed Oct 26 2022</td>\n",
       "      <td>7:00p</td>\n",
       "      <td>Orlando Magic</td>\n",
       "      <td>Cleveland Cavaliers</td>\n",
       "    </tr>\n",
       "    <tr>\n",
       "      <th>3</th>\n",
       "      <td>Wed Oct 26 2022</td>\n",
       "      <td>10:00p</td>\n",
       "      <td>Miami Heat</td>\n",
       "      <td>Portland Trail Blazers</td>\n",
       "    </tr>\n",
       "    <tr>\n",
       "      <th>4</th>\n",
       "      <td>Wed Oct 26 2022</td>\n",
       "      <td>10:00p</td>\n",
       "      <td>Los Angeles Lakers</td>\n",
       "      <td>Denver Nuggets</td>\n",
       "    </tr>\n",
       "  </tbody>\n",
       "</table>\n",
       "</div>"
      ],
      "text/plain": [
       "              date time_et           away_team               home_team\n",
       "0  Wed Oct 26 2022   8:00p   San Antonio Spurs  Minnesota Timberwolves\n",
       "1  Wed Oct 26 2022   7:30p  Philadelphia 76ers         Toronto Raptors\n",
       "2  Wed Oct 26 2022   7:00p       Orlando Magic     Cleveland Cavaliers\n",
       "3  Wed Oct 26 2022  10:00p          Miami Heat  Portland Trail Blazers\n",
       "4  Wed Oct 26 2022  10:00p  Los Angeles Lakers          Denver Nuggets"
      ]
     },
     "execution_count": 3,
     "metadata": {},
     "output_type": "execute_result"
    }
   ],
   "source": [
    "games_2023.head()"
   ]
  },
  {
   "cell_type": "code",
   "execution_count": 4,
   "id": "textile-seating",
   "metadata": {},
   "outputs": [
    {
     "data": {
      "text/plain": [
       "1230"
      ]
     },
     "execution_count": 4,
     "metadata": {},
     "output_type": "execute_result"
    }
   ],
   "source": [
    "len(games_2023)"
   ]
  },
  {
   "cell_type": "markdown",
   "id": "expired-blackjack",
   "metadata": {},
   "source": [
    "## Choosing Features"
   ]
  },
  {
   "cell_type": "markdown",
   "id": "accurate-might",
   "metadata": {},
   "source": [
    "For our models, we decided that we wanted to use the following features for model prediction (along with our assumptions):\n",
    "<ol>\n",
    "    <li>Home and Away Team IDs: distinguish who is playing against each other</li>\n",
    "    <li>Season: this feature likely won't do much, but can potentially have some influence</li>\n",
    "    <li>Team 3-point Percentage: if a team is good at making 3s, they have a strong offense</li>\n",
    "    <li>Team field goal Percentage: if a team has a good field goal perecentage, this also contributes to strong offense</li>\n",
    "    <li>Team Free-throw Percentage: Not as important as 3-point and field goals, but also contributes to offense</li>\n",
    "    <li>Team Assists: if a team has a lot of assists, they're good at moving the ball around to make shots</li>\n",
    "    <li>Team Blocks: if a team has a lot of blocks, they are good a defending shots</li>\n",
    "    <li>Defensive Rebounds: if a team is good at defensive rebounds, they reduce the odds that the other team has more opportunities to score.</li>\n",
    "    <li>Steals: another feature that can indicate defensive strength</li>\n",
    "    "
   ]
  },
  {
   "cell_type": "code",
   "execution_count": 5,
   "id": "natural-charity",
   "metadata": {},
   "outputs": [],
   "source": [
    "#the columns we need to eventually calculate the features\n",
    "stats_columns = ['game.id','game.season','team.id', #ids\n",
    "                 'ast', 'fg3a', 'fg3m', 'fga','fgm', 'fta', 'ftm', #offense stats\n",
    "                 'stl','blk', 'dreb'] #defense stats\n",
    "\n",
    "final_features = ['home_team_id','away_team_id','season',\n",
    "                  'home_fg3pct','home_fgpct','home_ftpct','away_fg3pct','away_fgpct','away_ftpct',\n",
    "                  'home_ast', 'home_blk', 'home_dreb', 'home_stl','away_ast', 'away_blk', 'away_dreb', 'away_stl',\n",
    "                  'home_team_won']\n",
    "\n",
    "input_2023 = ['home_team_id','away_team_id','season',\n",
    "              'home_fg3pct','home_fgpct','home_ftpct','away_fg3pct','away_fgpct','away_ftpct',\n",
    "              'home_ast_avg', 'home_blk_avg', 'home_dreb_avg', 'home_stl_avg','away_ast_avg', 'away_blk_avg', 'away_dreb_avg', 'away_stl_avg',]\n"
   ]
  },
  {
   "cell_type": "markdown",
   "id": "simple-generation",
   "metadata": {},
   "source": [
    "## Data Manipulation & Cleaning"
   ]
  },
  {
   "cell_type": "markdown",
   "id": "certified-temperature",
   "metadata": {},
   "source": [
    "Now that we have our four datasets, we need to combine them into two: one for historical data and one for 2023 data. We will...\n",
    "<ol>\n",
    "    <li><b>Create the Supervised Learning Model Dataset:</b> Sum/Average the stats per team per game from the stats API data and join it to the games API data. This will enable us to use many features in our models.</li>\n",
    "    <li><b>Create the Inputs Dataset for 2023 Prediction:</b> Combine the teams API data with the Basketball Reference 2023 schedule to add the team id columns. Then, use the stats API dataset to join average stats for prediction.</li>\n",
    "</ol>"
   ]
  },
  {
   "cell_type": "markdown",
   "id": "blessed-express",
   "metadata": {},
   "source": [
    "### Get Final Historical Games Dataset"
   ]
  },
  {
   "cell_type": "code",
   "execution_count": 6,
   "id": "executive-hardwood",
   "metadata": {},
   "outputs": [],
   "source": [
    "#read in CSV data from API data extraction\n",
    "regular_season_stats_csv = pd.read_csv('regular_season_stats.csv', index_col=0)\n",
    "regular_season_games_csv = pd.read_csv('regular_season_games.csv', index_col=0)"
   ]
  },
  {
   "cell_type": "code",
   "execution_count": 7,
   "id": "medical-egyptian",
   "metadata": {},
   "outputs": [],
   "source": [
    "# feature #1: create boolean column whether the home team won\n",
    "def winner_column(df):\n",
    "    df['home_team_won'] = np.where(df.home_team_score > df.visitor_team_score,1,0)\n",
    "    return df"
   ]
  },
  {
   "cell_type": "code",
   "execution_count": 8,
   "id": "organized-robinson",
   "metadata": {},
   "outputs": [],
   "source": [
    "games_df = winner_column(regular_season_games_csv)"
   ]
  },
  {
   "cell_type": "markdown",
   "id": "desirable-assumption",
   "metadata": {},
   "source": [
    "#### Separate Home Team Columns and Away Team Columns into two datasets"
   ]
  },
  {
   "cell_type": "code",
   "execution_count": 9,
   "id": "turned-briefing",
   "metadata": {},
   "outputs": [],
   "source": [
    "home_columns = ['id','season','home_team_score','home_team.id','home_team_won']\n",
    "away_columns = ['id','season','visitor_team_score','visitor_team.id']"
   ]
  },
  {
   "cell_type": "code",
   "execution_count": 10,
   "id": "funny-sister",
   "metadata": {},
   "outputs": [],
   "source": [
    "home_team_df = games_df[home_columns]\n",
    "away_team_df = games_df[away_columns]"
   ]
  },
  {
   "cell_type": "markdown",
   "id": "sporting-authority",
   "metadata": {},
   "source": [
    "#### Aggregate Player Stats per Game"
   ]
  },
  {
   "cell_type": "code",
   "execution_count": 11,
   "id": "dramatic-charles",
   "metadata": {},
   "outputs": [],
   "source": [
    "def agg(df):\n",
    "    agg_df = df.groupby(['game.id','team.id','game.season']\n",
    "                   ).sum().reset_index()\n",
    "    \n",
    "    return agg_df[stats_columns]"
   ]
  },
  {
   "cell_type": "code",
   "execution_count": 12,
   "id": "checked-movement",
   "metadata": {},
   "outputs": [],
   "source": [
    "stats_df = agg(regular_season_stats_csv)"
   ]
  },
  {
   "cell_type": "code",
   "execution_count": 13,
   "id": "aware-somalia",
   "metadata": {},
   "outputs": [
    {
     "data": {
      "text/html": [
       "<div>\n",
       "<style scoped>\n",
       "    .dataframe tbody tr th:only-of-type {\n",
       "        vertical-align: middle;\n",
       "    }\n",
       "\n",
       "    .dataframe tbody tr th {\n",
       "        vertical-align: top;\n",
       "    }\n",
       "\n",
       "    .dataframe thead th {\n",
       "        text-align: right;\n",
       "    }\n",
       "</style>\n",
       "<table border=\"1\" class=\"dataframe\">\n",
       "  <thead>\n",
       "    <tr style=\"text-align: right;\">\n",
       "      <th></th>\n",
       "      <th>game.id</th>\n",
       "      <th>game.season</th>\n",
       "      <th>team.id</th>\n",
       "      <th>ast</th>\n",
       "      <th>fg3a</th>\n",
       "      <th>fg3m</th>\n",
       "      <th>fga</th>\n",
       "      <th>fgm</th>\n",
       "      <th>fta</th>\n",
       "      <th>ftm</th>\n",
       "      <th>stl</th>\n",
       "      <th>blk</th>\n",
       "      <th>dreb</th>\n",
       "    </tr>\n",
       "  </thead>\n",
       "  <tbody>\n",
       "    <tr>\n",
       "      <th>0</th>\n",
       "      <td>152</td>\n",
       "      <td>2018</td>\n",
       "      <td>5</td>\n",
       "      <td>16.0</td>\n",
       "      <td>33.0</td>\n",
       "      <td>8.0</td>\n",
       "      <td>89.0</td>\n",
       "      <td>35.0</td>\n",
       "      <td>22.0</td>\n",
       "      <td>20.0</td>\n",
       "      <td>11.0</td>\n",
       "      <td>3.0</td>\n",
       "      <td>37.0</td>\n",
       "    </tr>\n",
       "    <tr>\n",
       "      <th>1</th>\n",
       "      <td>152</td>\n",
       "      <td>2018</td>\n",
       "      <td>7</td>\n",
       "      <td>18.0</td>\n",
       "      <td>33.0</td>\n",
       "      <td>10.0</td>\n",
       "      <td>79.0</td>\n",
       "      <td>37.0</td>\n",
       "      <td>29.0</td>\n",
       "      <td>19.0</td>\n",
       "      <td>11.0</td>\n",
       "      <td>7.0</td>\n",
       "      <td>42.0</td>\n",
       "    </tr>\n",
       "    <tr>\n",
       "      <th>2</th>\n",
       "      <td>153</td>\n",
       "      <td>2018</td>\n",
       "      <td>20</td>\n",
       "      <td>18.0</td>\n",
       "      <td>26.0</td>\n",
       "      <td>7.0</td>\n",
       "      <td>88.0</td>\n",
       "      <td>39.0</td>\n",
       "      <td>23.0</td>\n",
       "      <td>18.0</td>\n",
       "      <td>8.0</td>\n",
       "      <td>8.0</td>\n",
       "      <td>27.0</td>\n",
       "    </tr>\n",
       "    <tr>\n",
       "      <th>3</th>\n",
       "      <td>153</td>\n",
       "      <td>2018</td>\n",
       "      <td>21</td>\n",
       "      <td>32.0</td>\n",
       "      <td>33.0</td>\n",
       "      <td>16.0</td>\n",
       "      <td>95.0</td>\n",
       "      <td>51.0</td>\n",
       "      <td>12.0</td>\n",
       "      <td>10.0</td>\n",
       "      <td>11.0</td>\n",
       "      <td>7.0</td>\n",
       "      <td>34.0</td>\n",
       "    </tr>\n",
       "    <tr>\n",
       "      <th>4</th>\n",
       "      <td>160</td>\n",
       "      <td>2018</td>\n",
       "      <td>15</td>\n",
       "      <td>16.0</td>\n",
       "      <td>30.0</td>\n",
       "      <td>11.0</td>\n",
       "      <td>103.0</td>\n",
       "      <td>45.0</td>\n",
       "      <td>15.0</td>\n",
       "      <td>11.0</td>\n",
       "      <td>9.0</td>\n",
       "      <td>3.0</td>\n",
       "      <td>30.0</td>\n",
       "    </tr>\n",
       "  </tbody>\n",
       "</table>\n",
       "</div>"
      ],
      "text/plain": [
       "   game.id  game.season  team.id   ast  fg3a  fg3m    fga   fgm   fta   ftm  \\\n",
       "0      152         2018        5  16.0  33.0   8.0   89.0  35.0  22.0  20.0   \n",
       "1      152         2018        7  18.0  33.0  10.0   79.0  37.0  29.0  19.0   \n",
       "2      153         2018       20  18.0  26.0   7.0   88.0  39.0  23.0  18.0   \n",
       "3      153         2018       21  32.0  33.0  16.0   95.0  51.0  12.0  10.0   \n",
       "4      160         2018       15  16.0  30.0  11.0  103.0  45.0  15.0  11.0   \n",
       "\n",
       "    stl  blk  dreb  \n",
       "0  11.0  3.0  37.0  \n",
       "1  11.0  7.0  42.0  \n",
       "2   8.0  8.0  27.0  \n",
       "3  11.0  7.0  34.0  \n",
       "4   9.0  3.0  30.0  "
      ]
     },
     "execution_count": 13,
     "metadata": {},
     "output_type": "execute_result"
    }
   ],
   "source": [
    "stats_df.head()"
   ]
  },
  {
   "cell_type": "markdown",
   "id": "exact-situation",
   "metadata": {},
   "source": [
    "#### Join stat_df to home_team_df and away_team_df"
   ]
  },
  {
   "cell_type": "code",
   "execution_count": 14,
   "id": "driving-abortion",
   "metadata": {},
   "outputs": [
    {
     "data": {
      "text/html": [
       "<div>\n",
       "<style scoped>\n",
       "    .dataframe tbody tr th:only-of-type {\n",
       "        vertical-align: middle;\n",
       "    }\n",
       "\n",
       "    .dataframe tbody tr th {\n",
       "        vertical-align: top;\n",
       "    }\n",
       "\n",
       "    .dataframe thead th {\n",
       "        text-align: right;\n",
       "    }\n",
       "</style>\n",
       "<table border=\"1\" class=\"dataframe\">\n",
       "  <thead>\n",
       "    <tr style=\"text-align: right;\">\n",
       "      <th></th>\n",
       "      <th>id</th>\n",
       "      <th>season</th>\n",
       "      <th>home_team_score</th>\n",
       "      <th>home_team.id</th>\n",
       "      <th>home_team_won</th>\n",
       "    </tr>\n",
       "  </thead>\n",
       "  <tbody>\n",
       "    <tr>\n",
       "      <th>363</th>\n",
       "      <td>1</td>\n",
       "      <td>2018</td>\n",
       "      <td>105</td>\n",
       "      <td>2</td>\n",
       "      <td>1</td>\n",
       "    </tr>\n",
       "    <tr>\n",
       "      <th>364</th>\n",
       "      <td>2</td>\n",
       "      <td>2018</td>\n",
       "      <td>108</td>\n",
       "      <td>10</td>\n",
       "      <td>1</td>\n",
       "    </tr>\n",
       "    <tr>\n",
       "      <th>365</th>\n",
       "      <td>3</td>\n",
       "      <td>2018</td>\n",
       "      <td>112</td>\n",
       "      <td>4</td>\n",
       "      <td>0</td>\n",
       "    </tr>\n",
       "    <tr>\n",
       "      <th>366</th>\n",
       "      <td>4</td>\n",
       "      <td>2018</td>\n",
       "      <td>103</td>\n",
       "      <td>9</td>\n",
       "      <td>1</td>\n",
       "    </tr>\n",
       "    <tr>\n",
       "      <th>367</th>\n",
       "      <td>5</td>\n",
       "      <td>2018</td>\n",
       "      <td>111</td>\n",
       "      <td>12</td>\n",
       "      <td>1</td>\n",
       "    </tr>\n",
       "  </tbody>\n",
       "</table>\n",
       "</div>"
      ],
      "text/plain": [
       "     id  season  home_team_score  home_team.id  home_team_won\n",
       "363   1    2018              105             2              1\n",
       "364   2    2018              108            10              1\n",
       "365   3    2018              112             4              0\n",
       "366   4    2018              103             9              1\n",
       "367   5    2018              111            12              1"
      ]
     },
     "execution_count": 14,
     "metadata": {},
     "output_type": "execute_result"
    }
   ],
   "source": [
    "home_team_df.sort_values(by=['id','season']).head()"
   ]
  },
  {
   "cell_type": "code",
   "execution_count": 15,
   "id": "after-expression",
   "metadata": {},
   "outputs": [
    {
     "data": {
      "text/html": [
       "<div>\n",
       "<style scoped>\n",
       "    .dataframe tbody tr th:only-of-type {\n",
       "        vertical-align: middle;\n",
       "    }\n",
       "\n",
       "    .dataframe tbody tr th {\n",
       "        vertical-align: top;\n",
       "    }\n",
       "\n",
       "    .dataframe thead th {\n",
       "        text-align: right;\n",
       "    }\n",
       "</style>\n",
       "<table border=\"1\" class=\"dataframe\">\n",
       "  <thead>\n",
       "    <tr style=\"text-align: right;\">\n",
       "      <th></th>\n",
       "      <th>game.id</th>\n",
       "      <th>game.season</th>\n",
       "      <th>team.id</th>\n",
       "      <th>ast</th>\n",
       "      <th>fg3a</th>\n",
       "      <th>fg3m</th>\n",
       "      <th>fga</th>\n",
       "      <th>fgm</th>\n",
       "      <th>fta</th>\n",
       "      <th>ftm</th>\n",
       "      <th>stl</th>\n",
       "      <th>blk</th>\n",
       "      <th>dreb</th>\n",
       "    </tr>\n",
       "  </thead>\n",
       "  <tbody>\n",
       "    <tr>\n",
       "      <th>0</th>\n",
       "      <td>152</td>\n",
       "      <td>2018</td>\n",
       "      <td>5</td>\n",
       "      <td>16.0</td>\n",
       "      <td>33.0</td>\n",
       "      <td>8.0</td>\n",
       "      <td>89.0</td>\n",
       "      <td>35.0</td>\n",
       "      <td>22.0</td>\n",
       "      <td>20.0</td>\n",
       "      <td>11.0</td>\n",
       "      <td>3.0</td>\n",
       "      <td>37.0</td>\n",
       "    </tr>\n",
       "    <tr>\n",
       "      <th>1</th>\n",
       "      <td>152</td>\n",
       "      <td>2018</td>\n",
       "      <td>7</td>\n",
       "      <td>18.0</td>\n",
       "      <td>33.0</td>\n",
       "      <td>10.0</td>\n",
       "      <td>79.0</td>\n",
       "      <td>37.0</td>\n",
       "      <td>29.0</td>\n",
       "      <td>19.0</td>\n",
       "      <td>11.0</td>\n",
       "      <td>7.0</td>\n",
       "      <td>42.0</td>\n",
       "    </tr>\n",
       "    <tr>\n",
       "      <th>2</th>\n",
       "      <td>153</td>\n",
       "      <td>2018</td>\n",
       "      <td>20</td>\n",
       "      <td>18.0</td>\n",
       "      <td>26.0</td>\n",
       "      <td>7.0</td>\n",
       "      <td>88.0</td>\n",
       "      <td>39.0</td>\n",
       "      <td>23.0</td>\n",
       "      <td>18.0</td>\n",
       "      <td>8.0</td>\n",
       "      <td>8.0</td>\n",
       "      <td>27.0</td>\n",
       "    </tr>\n",
       "    <tr>\n",
       "      <th>3</th>\n",
       "      <td>153</td>\n",
       "      <td>2018</td>\n",
       "      <td>21</td>\n",
       "      <td>32.0</td>\n",
       "      <td>33.0</td>\n",
       "      <td>16.0</td>\n",
       "      <td>95.0</td>\n",
       "      <td>51.0</td>\n",
       "      <td>12.0</td>\n",
       "      <td>10.0</td>\n",
       "      <td>11.0</td>\n",
       "      <td>7.0</td>\n",
       "      <td>34.0</td>\n",
       "    </tr>\n",
       "    <tr>\n",
       "      <th>4</th>\n",
       "      <td>160</td>\n",
       "      <td>2018</td>\n",
       "      <td>15</td>\n",
       "      <td>16.0</td>\n",
       "      <td>30.0</td>\n",
       "      <td>11.0</td>\n",
       "      <td>103.0</td>\n",
       "      <td>45.0</td>\n",
       "      <td>15.0</td>\n",
       "      <td>11.0</td>\n",
       "      <td>9.0</td>\n",
       "      <td>3.0</td>\n",
       "      <td>30.0</td>\n",
       "    </tr>\n",
       "  </tbody>\n",
       "</table>\n",
       "</div>"
      ],
      "text/plain": [
       "   game.id  game.season  team.id   ast  fg3a  fg3m    fga   fgm   fta   ftm  \\\n",
       "0      152         2018        5  16.0  33.0   8.0   89.0  35.0  22.0  20.0   \n",
       "1      152         2018        7  18.0  33.0  10.0   79.0  37.0  29.0  19.0   \n",
       "2      153         2018       20  18.0  26.0   7.0   88.0  39.0  23.0  18.0   \n",
       "3      153         2018       21  32.0  33.0  16.0   95.0  51.0  12.0  10.0   \n",
       "4      160         2018       15  16.0  30.0  11.0  103.0  45.0  15.0  11.0   \n",
       "\n",
       "    stl  blk  dreb  \n",
       "0  11.0  3.0  37.0  \n",
       "1  11.0  7.0  42.0  \n",
       "2   8.0  8.0  27.0  \n",
       "3  11.0  7.0  34.0  \n",
       "4   9.0  3.0  30.0  "
      ]
     },
     "execution_count": 15,
     "metadata": {},
     "output_type": "execute_result"
    }
   ],
   "source": [
    "stats_df.sort_values(by=['game.id','game.season']).head()"
   ]
  },
  {
   "cell_type": "code",
   "execution_count": 16,
   "id": "psychological-carrier",
   "metadata": {},
   "outputs": [],
   "source": [
    "#columns to drop\n",
    "drop_columns = {'game.id','game.season','team.id'}\n",
    "\n",
    "#columns to rename\n",
    "home_rename_columns = {'id':'game_id','home_team.id':'home_team_id','ast': 'home_ast', #ids and assists\n",
    "                       'fg3a': 'home_fg3a','fg3m': 'home_fg3m', #3s\n",
    "                       'fga': 'home_fga','fgm': 'home_fgm', #fgs\n",
    "                       'fta': 'home_fta','ftm': 'home_ftm', #fts\n",
    "                       'blk': 'home_blk','dreb': 'home_dreb','stl': 'home_stl'} #defense\n",
    "\n",
    "away_rename_columns = {'id':'game_id','visitor_team.id':'away_team_id', #ids\n",
    "                       'visitor_team_score':'away_team_score','ast': 'away_ast', #offense\n",
    "                       'fg3a': 'away_fg3a','fg3m': 'away_fg3m', #3s\n",
    "                       'fga': 'away_fga','fgm': 'away_fgm', #fgs\n",
    "                       'fta': 'away_fta','ftm': 'away_ftm', #fts\n",
    "                       'blk': 'away_blk','dreb': 'away_dreb','stl': 'away_stl'} #defense\n",
    "\n",
    "home = home_team_df.merge(stats_df, how='left', \n",
    "                          left_on=['id','home_team.id'], \n",
    "                          right_on=['game.id','team.id']\n",
    "                         ).rename(columns=home_rename_columns\n",
    "                         ).drop(columns=drop_columns)\n",
    "\n",
    "\n",
    "away = away_team_df.merge(stats_df, how='left', \n",
    "                          left_on=['id','visitor_team.id'], \n",
    "                          right_on=['game.id','team.id']\n",
    "                          ).rename(columns=away_rename_columns\n",
    "                          ).drop(columns=drop_columns)\n"
   ]
  },
  {
   "cell_type": "markdown",
   "id": "significant-devices",
   "metadata": {},
   "source": [
    "#### Create Final Dataset for Historical Data"
   ]
  },
  {
   "cell_type": "code",
   "execution_count": 17,
   "id": "optimum-fireplace",
   "metadata": {},
   "outputs": [],
   "source": [
    "historical_games_df = home.merge(away, how='left', on=['game_id','season'])"
   ]
  },
  {
   "cell_type": "markdown",
   "id": "female-immune",
   "metadata": {},
   "source": [
    "#### Clean Dataset"
   ]
  },
  {
   "cell_type": "markdown",
   "id": "respected-carol",
   "metadata": {},
   "source": [
    "after all of the joining, if a row is missing all of the stats for the home and away team, then we'll need to drop it."
   ]
  },
  {
   "cell_type": "code",
   "execution_count": 18,
   "id": "minimal-archive",
   "metadata": {},
   "outputs": [
    {
     "data": {
      "text/plain": [
       "225"
      ]
     },
     "execution_count": 18,
     "metadata": {},
     "output_type": "execute_result"
    }
   ],
   "source": [
    "len(historical_games_df[historical_games_df.isna().any(axis=1)])"
   ]
  },
  {
   "cell_type": "code",
   "execution_count": 19,
   "id": "pacific-crowd",
   "metadata": {},
   "outputs": [
    {
     "data": {
      "text/plain": [
       "0.026836832061068704"
      ]
     },
     "execution_count": 19,
     "metadata": {},
     "output_type": "execute_result"
    }
   ],
   "source": [
    "len(historical_games_df[historical_games_df.isna().any(axis=1)])/len(historical_games_df)"
   ]
  },
  {
   "cell_type": "markdown",
   "id": "early-senator",
   "metadata": {},
   "source": [
    "Only ~2.6% of our dataset needs to be dropped. This is great!"
   ]
  },
  {
   "cell_type": "code",
   "execution_count": 20,
   "id": "social-angola",
   "metadata": {},
   "outputs": [],
   "source": [
    "historical_games_df.dropna(subset=final_features[9:-1],how='all',inplace=True)"
   ]
  },
  {
   "cell_type": "code",
   "execution_count": 21,
   "id": "intimate-guarantee",
   "metadata": {},
   "outputs": [
    {
     "data": {
      "text/plain": [
       "8160"
      ]
     },
     "execution_count": 21,
     "metadata": {},
     "output_type": "execute_result"
    }
   ],
   "source": [
    "len(historical_games_df)"
   ]
  },
  {
   "cell_type": "markdown",
   "id": "monthly-catch",
   "metadata": {},
   "source": [
    "Our model will still have more than 8K games to work with. This is a good amount of rows for prediction."
   ]
  },
  {
   "cell_type": "code",
   "execution_count": 22,
   "id": "veterinary-justice",
   "metadata": {},
   "outputs": [
    {
     "data": {
      "text/html": [
       "<div>\n",
       "<style scoped>\n",
       "    .dataframe tbody tr th:only-of-type {\n",
       "        vertical-align: middle;\n",
       "    }\n",
       "\n",
       "    .dataframe tbody tr th {\n",
       "        vertical-align: top;\n",
       "    }\n",
       "\n",
       "    .dataframe thead th {\n",
       "        text-align: right;\n",
       "    }\n",
       "</style>\n",
       "<table border=\"1\" class=\"dataframe\">\n",
       "  <thead>\n",
       "    <tr style=\"text-align: right;\">\n",
       "      <th></th>\n",
       "      <th>count</th>\n",
       "      <th>mean</th>\n",
       "      <th>std</th>\n",
       "      <th>min</th>\n",
       "      <th>25%</th>\n",
       "      <th>50%</th>\n",
       "      <th>75%</th>\n",
       "      <th>max</th>\n",
       "    </tr>\n",
       "  </thead>\n",
       "  <tbody>\n",
       "    <tr>\n",
       "      <th>game_id</th>\n",
       "      <td>8160.0</td>\n",
       "      <td>128902.493995</td>\n",
       "      <td>162207.985883</td>\n",
       "      <td>152.0</td>\n",
       "      <td>33276.75</td>\n",
       "      <td>35585.5</td>\n",
       "      <td>127878.25</td>\n",
       "      <td>474638.0</td>\n",
       "    </tr>\n",
       "    <tr>\n",
       "      <th>season</th>\n",
       "      <td>8160.0</td>\n",
       "      <td>2017.973039</td>\n",
       "      <td>2.053759</td>\n",
       "      <td>2015.0</td>\n",
       "      <td>2016.00</td>\n",
       "      <td>2018.0</td>\n",
       "      <td>2020.00</td>\n",
       "      <td>2021.0</td>\n",
       "    </tr>\n",
       "    <tr>\n",
       "      <th>home_team_score</th>\n",
       "      <td>8160.0</td>\n",
       "      <td>109.255147</td>\n",
       "      <td>12.871282</td>\n",
       "      <td>59.0</td>\n",
       "      <td>101.00</td>\n",
       "      <td>109.0</td>\n",
       "      <td>118.00</td>\n",
       "      <td>161.0</td>\n",
       "    </tr>\n",
       "    <tr>\n",
       "      <th>home_team_id</th>\n",
       "      <td>8160.0</td>\n",
       "      <td>15.508824</td>\n",
       "      <td>8.653517</td>\n",
       "      <td>1.0</td>\n",
       "      <td>8.00</td>\n",
       "      <td>16.0</td>\n",
       "      <td>23.00</td>\n",
       "      <td>30.0</td>\n",
       "    </tr>\n",
       "    <tr>\n",
       "      <th>home_team_won</th>\n",
       "      <td>8160.0</td>\n",
       "      <td>0.567892</td>\n",
       "      <td>0.495400</td>\n",
       "      <td>0.0</td>\n",
       "      <td>0.00</td>\n",
       "      <td>1.0</td>\n",
       "      <td>1.00</td>\n",
       "      <td>1.0</td>\n",
       "    </tr>\n",
       "    <tr>\n",
       "      <th>home_ast</th>\n",
       "      <td>8160.0</td>\n",
       "      <td>25.008088</td>\n",
       "      <td>7.189054</td>\n",
       "      <td>8.0</td>\n",
       "      <td>21.00</td>\n",
       "      <td>24.0</td>\n",
       "      <td>28.00</td>\n",
       "      <td>74.0</td>\n",
       "    </tr>\n",
       "    <tr>\n",
       "      <th>home_fg3a</th>\n",
       "      <td>8160.0</td>\n",
       "      <td>31.774632</td>\n",
       "      <td>10.249292</td>\n",
       "      <td>4.0</td>\n",
       "      <td>25.00</td>\n",
       "      <td>31.0</td>\n",
       "      <td>36.00</td>\n",
       "      <td>122.0</td>\n",
       "    </tr>\n",
       "    <tr>\n",
       "      <th>home_fg3m</th>\n",
       "      <td>8160.0</td>\n",
       "      <td>11.461520</td>\n",
       "      <td>4.625236</td>\n",
       "      <td>0.0</td>\n",
       "      <td>8.00</td>\n",
       "      <td>11.0</td>\n",
       "      <td>14.00</td>\n",
       "      <td>46.0</td>\n",
       "    </tr>\n",
       "    <tr>\n",
       "      <th>home_fga</th>\n",
       "      <td>8160.0</td>\n",
       "      <td>89.765074</td>\n",
       "      <td>17.859369</td>\n",
       "      <td>48.0</td>\n",
       "      <td>82.00</td>\n",
       "      <td>87.0</td>\n",
       "      <td>92.00</td>\n",
       "      <td>246.0</td>\n",
       "    </tr>\n",
       "    <tr>\n",
       "      <th>home_fgm</th>\n",
       "      <td>8160.0</td>\n",
       "      <td>41.631740</td>\n",
       "      <td>9.369473</td>\n",
       "      <td>19.0</td>\n",
       "      <td>37.00</td>\n",
       "      <td>40.0</td>\n",
       "      <td>44.00</td>\n",
       "      <td>122.0</td>\n",
       "    </tr>\n",
       "    <tr>\n",
       "      <th>home_fta</th>\n",
       "      <td>8160.0</td>\n",
       "      <td>23.587255</td>\n",
       "      <td>8.884076</td>\n",
       "      <td>1.0</td>\n",
       "      <td>18.00</td>\n",
       "      <td>23.0</td>\n",
       "      <td>28.00</td>\n",
       "      <td>88.0</td>\n",
       "    </tr>\n",
       "    <tr>\n",
       "      <th>home_ftm</th>\n",
       "      <td>8160.0</td>\n",
       "      <td>18.145343</td>\n",
       "      <td>7.208719</td>\n",
       "      <td>1.0</td>\n",
       "      <td>13.00</td>\n",
       "      <td>17.0</td>\n",
       "      <td>22.00</td>\n",
       "      <td>78.0</td>\n",
       "    </tr>\n",
       "    <tr>\n",
       "      <th>home_stl</th>\n",
       "      <td>8160.0</td>\n",
       "      <td>7.888725</td>\n",
       "      <td>3.295865</td>\n",
       "      <td>0.0</td>\n",
       "      <td>6.00</td>\n",
       "      <td>8.0</td>\n",
       "      <td>10.00</td>\n",
       "      <td>34.0</td>\n",
       "    </tr>\n",
       "    <tr>\n",
       "      <th>home_blk</th>\n",
       "      <td>8160.0</td>\n",
       "      <td>5.142402</td>\n",
       "      <td>2.747728</td>\n",
       "      <td>0.0</td>\n",
       "      <td>3.00</td>\n",
       "      <td>5.0</td>\n",
       "      <td>7.00</td>\n",
       "      <td>24.0</td>\n",
       "    </tr>\n",
       "    <tr>\n",
       "      <th>home_dreb</th>\n",
       "      <td>8160.0</td>\n",
       "      <td>35.587500</td>\n",
       "      <td>8.687148</td>\n",
       "      <td>16.0</td>\n",
       "      <td>31.00</td>\n",
       "      <td>35.0</td>\n",
       "      <td>38.00</td>\n",
       "      <td>100.0</td>\n",
       "    </tr>\n",
       "    <tr>\n",
       "      <th>away_team_score</th>\n",
       "      <td>8160.0</td>\n",
       "      <td>107.058211</td>\n",
       "      <td>12.998738</td>\n",
       "      <td>57.0</td>\n",
       "      <td>98.00</td>\n",
       "      <td>107.0</td>\n",
       "      <td>116.00</td>\n",
       "      <td>168.0</td>\n",
       "    </tr>\n",
       "    <tr>\n",
       "      <th>away_team_id</th>\n",
       "      <td>8160.0</td>\n",
       "      <td>15.530515</td>\n",
       "      <td>8.653426</td>\n",
       "      <td>1.0</td>\n",
       "      <td>8.00</td>\n",
       "      <td>16.0</td>\n",
       "      <td>23.00</td>\n",
       "      <td>30.0</td>\n",
       "    </tr>\n",
       "    <tr>\n",
       "      <th>away_ast</th>\n",
       "      <td>8159.0</td>\n",
       "      <td>23.997181</td>\n",
       "      <td>7.079305</td>\n",
       "      <td>7.0</td>\n",
       "      <td>20.00</td>\n",
       "      <td>23.0</td>\n",
       "      <td>27.00</td>\n",
       "      <td>78.0</td>\n",
       "    </tr>\n",
       "    <tr>\n",
       "      <th>away_fg3a</th>\n",
       "      <td>8159.0</td>\n",
       "      <td>31.716019</td>\n",
       "      <td>10.402226</td>\n",
       "      <td>5.0</td>\n",
       "      <td>25.00</td>\n",
       "      <td>31.0</td>\n",
       "      <td>36.00</td>\n",
       "      <td>110.0</td>\n",
       "    </tr>\n",
       "    <tr>\n",
       "      <th>away_fg3m</th>\n",
       "      <td>8159.0</td>\n",
       "      <td>11.235568</td>\n",
       "      <td>4.749540</td>\n",
       "      <td>0.0</td>\n",
       "      <td>8.00</td>\n",
       "      <td>11.0</td>\n",
       "      <td>14.00</td>\n",
       "      <td>44.0</td>\n",
       "    </tr>\n",
       "    <tr>\n",
       "      <th>away_fga</th>\n",
       "      <td>8159.0</td>\n",
       "      <td>89.934428</td>\n",
       "      <td>18.130773</td>\n",
       "      <td>35.0</td>\n",
       "      <td>82.00</td>\n",
       "      <td>87.0</td>\n",
       "      <td>92.00</td>\n",
       "      <td>238.0</td>\n",
       "    </tr>\n",
       "    <tr>\n",
       "      <th>away_fgm</th>\n",
       "      <td>8159.0</td>\n",
       "      <td>40.889937</td>\n",
       "      <td>9.253725</td>\n",
       "      <td>14.0</td>\n",
       "      <td>36.00</td>\n",
       "      <td>40.0</td>\n",
       "      <td>43.00</td>\n",
       "      <td>112.0</td>\n",
       "    </tr>\n",
       "    <tr>\n",
       "      <th>away_fta</th>\n",
       "      <td>8159.0</td>\n",
       "      <td>22.880500</td>\n",
       "      <td>8.540965</td>\n",
       "      <td>2.0</td>\n",
       "      <td>17.00</td>\n",
       "      <td>22.0</td>\n",
       "      <td>27.00</td>\n",
       "      <td>108.0</td>\n",
       "    </tr>\n",
       "    <tr>\n",
       "      <th>away_ftm</th>\n",
       "      <td>8159.0</td>\n",
       "      <td>17.590636</td>\n",
       "      <td>6.911736</td>\n",
       "      <td>1.0</td>\n",
       "      <td>13.00</td>\n",
       "      <td>17.0</td>\n",
       "      <td>21.00</td>\n",
       "      <td>72.0</td>\n",
       "    </tr>\n",
       "    <tr>\n",
       "      <th>away_stl</th>\n",
       "      <td>8159.0</td>\n",
       "      <td>7.961883</td>\n",
       "      <td>3.351500</td>\n",
       "      <td>0.0</td>\n",
       "      <td>6.00</td>\n",
       "      <td>8.0</td>\n",
       "      <td>10.00</td>\n",
       "      <td>38.0</td>\n",
       "    </tr>\n",
       "    <tr>\n",
       "      <th>away_blk</th>\n",
       "      <td>8159.0</td>\n",
       "      <td>4.844099</td>\n",
       "      <td>2.662693</td>\n",
       "      <td>0.0</td>\n",
       "      <td>3.00</td>\n",
       "      <td>4.0</td>\n",
       "      <td>6.00</td>\n",
       "      <td>26.0</td>\n",
       "    </tr>\n",
       "    <tr>\n",
       "      <th>away_dreb</th>\n",
       "      <td>8159.0</td>\n",
       "      <td>34.680230</td>\n",
       "      <td>8.434312</td>\n",
       "      <td>16.0</td>\n",
       "      <td>30.00</td>\n",
       "      <td>34.0</td>\n",
       "      <td>37.00</td>\n",
       "      <td>102.0</td>\n",
       "    </tr>\n",
       "  </tbody>\n",
       "</table>\n",
       "</div>"
      ],
      "text/plain": [
       "                  count           mean            std     min       25%  \\\n",
       "game_id          8160.0  128902.493995  162207.985883   152.0  33276.75   \n",
       "season           8160.0    2017.973039       2.053759  2015.0   2016.00   \n",
       "home_team_score  8160.0     109.255147      12.871282    59.0    101.00   \n",
       "home_team_id     8160.0      15.508824       8.653517     1.0      8.00   \n",
       "home_team_won    8160.0       0.567892       0.495400     0.0      0.00   \n",
       "home_ast         8160.0      25.008088       7.189054     8.0     21.00   \n",
       "home_fg3a        8160.0      31.774632      10.249292     4.0     25.00   \n",
       "home_fg3m        8160.0      11.461520       4.625236     0.0      8.00   \n",
       "home_fga         8160.0      89.765074      17.859369    48.0     82.00   \n",
       "home_fgm         8160.0      41.631740       9.369473    19.0     37.00   \n",
       "home_fta         8160.0      23.587255       8.884076     1.0     18.00   \n",
       "home_ftm         8160.0      18.145343       7.208719     1.0     13.00   \n",
       "home_stl         8160.0       7.888725       3.295865     0.0      6.00   \n",
       "home_blk         8160.0       5.142402       2.747728     0.0      3.00   \n",
       "home_dreb        8160.0      35.587500       8.687148    16.0     31.00   \n",
       "away_team_score  8160.0     107.058211      12.998738    57.0     98.00   \n",
       "away_team_id     8160.0      15.530515       8.653426     1.0      8.00   \n",
       "away_ast         8159.0      23.997181       7.079305     7.0     20.00   \n",
       "away_fg3a        8159.0      31.716019      10.402226     5.0     25.00   \n",
       "away_fg3m        8159.0      11.235568       4.749540     0.0      8.00   \n",
       "away_fga         8159.0      89.934428      18.130773    35.0     82.00   \n",
       "away_fgm         8159.0      40.889937       9.253725    14.0     36.00   \n",
       "away_fta         8159.0      22.880500       8.540965     2.0     17.00   \n",
       "away_ftm         8159.0      17.590636       6.911736     1.0     13.00   \n",
       "away_stl         8159.0       7.961883       3.351500     0.0      6.00   \n",
       "away_blk         8159.0       4.844099       2.662693     0.0      3.00   \n",
       "away_dreb        8159.0      34.680230       8.434312    16.0     30.00   \n",
       "\n",
       "                     50%        75%       max  \n",
       "game_id          35585.5  127878.25  474638.0  \n",
       "season            2018.0    2020.00    2021.0  \n",
       "home_team_score    109.0     118.00     161.0  \n",
       "home_team_id        16.0      23.00      30.0  \n",
       "home_team_won        1.0       1.00       1.0  \n",
       "home_ast            24.0      28.00      74.0  \n",
       "home_fg3a           31.0      36.00     122.0  \n",
       "home_fg3m           11.0      14.00      46.0  \n",
       "home_fga            87.0      92.00     246.0  \n",
       "home_fgm            40.0      44.00     122.0  \n",
       "home_fta            23.0      28.00      88.0  \n",
       "home_ftm            17.0      22.00      78.0  \n",
       "home_stl             8.0      10.00      34.0  \n",
       "home_blk             5.0       7.00      24.0  \n",
       "home_dreb           35.0      38.00     100.0  \n",
       "away_team_score    107.0     116.00     168.0  \n",
       "away_team_id        16.0      23.00      30.0  \n",
       "away_ast            23.0      27.00      78.0  \n",
       "away_fg3a           31.0      36.00     110.0  \n",
       "away_fg3m           11.0      14.00      44.0  \n",
       "away_fga            87.0      92.00     238.0  \n",
       "away_fgm            40.0      43.00     112.0  \n",
       "away_fta            22.0      27.00     108.0  \n",
       "away_ftm            17.0      21.00      72.0  \n",
       "away_stl             8.0      10.00      38.0  \n",
       "away_blk             4.0       6.00      26.0  \n",
       "away_dreb           34.0      37.00     102.0  "
      ]
     },
     "execution_count": 22,
     "metadata": {},
     "output_type": "execute_result"
    }
   ],
   "source": [
    "historical_games_df.describe().T"
   ]
  },
  {
   "cell_type": "markdown",
   "id": "designing-mapping",
   "metadata": {},
   "source": [
    "It looks like there is one last row in the away stats likely has null values. We'll make sure to drop that before running our models. Looking at the above statistics, it will probably make sense for us to use RobustScaler during preprocessing. This will help us reduce the effect of games with outlier stats."
   ]
  },
  {
   "cell_type": "markdown",
   "id": "mineral-craps",
   "metadata": {},
   "source": [
    "#### Add Features"
   ]
  },
  {
   "cell_type": "code",
   "execution_count": 23,
   "id": "ruled-wrong",
   "metadata": {},
   "outputs": [],
   "source": [
    "def get_features(df):\n",
    "    df['home_fg3pct'] = df['home_fg3m'] / df['home_fg3a']\n",
    "    df['away_fg3pct'] = df['away_fg3m'] / df['away_fg3a']\n",
    "    df['home_fgpct'] = df['home_fgm'] / df['home_fga']\n",
    "    df['away_fgpct'] = df['away_fgm'] / df['away_fga']\n",
    "    df['home_ftpct'] = df['home_ftm'] / df['home_fta']\n",
    "    df['away_ftpct'] = df['away_ftm'] / df['away_fta']\n",
    "    return df"
   ]
  },
  {
   "cell_type": "code",
   "execution_count": 24,
   "id": "increasing-heather",
   "metadata": {},
   "outputs": [],
   "source": [
    "historical_games_df = get_features(historical_games_df)"
   ]
  },
  {
   "cell_type": "code",
   "execution_count": 25,
   "id": "assigned-company",
   "metadata": {},
   "outputs": [
    {
     "data": {
      "text/html": [
       "<div>\n",
       "<style scoped>\n",
       "    .dataframe tbody tr th:only-of-type {\n",
       "        vertical-align: middle;\n",
       "    }\n",
       "\n",
       "    .dataframe tbody tr th {\n",
       "        vertical-align: top;\n",
       "    }\n",
       "\n",
       "    .dataframe thead th {\n",
       "        text-align: right;\n",
       "    }\n",
       "</style>\n",
       "<table border=\"1\" class=\"dataframe\">\n",
       "  <thead>\n",
       "    <tr style=\"text-align: right;\">\n",
       "      <th></th>\n",
       "      <th>game_id</th>\n",
       "      <th>season</th>\n",
       "      <th>home_team_score</th>\n",
       "      <th>home_team_id</th>\n",
       "      <th>home_team_won</th>\n",
       "      <th>home_ast</th>\n",
       "      <th>home_fg3a</th>\n",
       "      <th>home_fg3m</th>\n",
       "      <th>home_fga</th>\n",
       "      <th>home_fgm</th>\n",
       "      <th>...</th>\n",
       "      <th>away_ftm</th>\n",
       "      <th>away_stl</th>\n",
       "      <th>away_blk</th>\n",
       "      <th>away_dreb</th>\n",
       "      <th>home_fg3pct</th>\n",
       "      <th>away_fg3pct</th>\n",
       "      <th>home_fgpct</th>\n",
       "      <th>away_fgpct</th>\n",
       "      <th>home_ftpct</th>\n",
       "      <th>away_ftpct</th>\n",
       "    </tr>\n",
       "  </thead>\n",
       "  <tbody>\n",
       "    <tr>\n",
       "      <th>0</th>\n",
       "      <td>47179</td>\n",
       "      <td>2018</td>\n",
       "      <td>126</td>\n",
       "      <td>2</td>\n",
       "      <td>1</td>\n",
       "      <td>68.0</td>\n",
       "      <td>58.0</td>\n",
       "      <td>24.0</td>\n",
       "      <td>180.0</td>\n",
       "      <td>100.0</td>\n",
       "      <td>...</td>\n",
       "      <td>6.0</td>\n",
       "      <td>14.0</td>\n",
       "      <td>10.0</td>\n",
       "      <td>48.0</td>\n",
       "      <td>0.413793</td>\n",
       "      <td>0.325000</td>\n",
       "      <td>0.555556</td>\n",
       "      <td>0.438202</td>\n",
       "      <td>0.875000</td>\n",
       "      <td>0.428571</td>\n",
       "    </tr>\n",
       "    <tr>\n",
       "      <th>1</th>\n",
       "      <td>48751</td>\n",
       "      <td>2018</td>\n",
       "      <td>112</td>\n",
       "      <td>2</td>\n",
       "      <td>0</td>\n",
       "      <td>42.0</td>\n",
       "      <td>52.0</td>\n",
       "      <td>18.0</td>\n",
       "      <td>184.0</td>\n",
       "      <td>78.0</td>\n",
       "      <td>...</td>\n",
       "      <td>62.0</td>\n",
       "      <td>12.0</td>\n",
       "      <td>12.0</td>\n",
       "      <td>86.0</td>\n",
       "      <td>0.346154</td>\n",
       "      <td>0.400000</td>\n",
       "      <td>0.423913</td>\n",
       "      <td>0.476190</td>\n",
       "      <td>0.806452</td>\n",
       "      <td>0.775000</td>\n",
       "    </tr>\n",
       "    <tr>\n",
       "      <th>2</th>\n",
       "      <td>48739</td>\n",
       "      <td>2018</td>\n",
       "      <td>117</td>\n",
       "      <td>23</td>\n",
       "      <td>1</td>\n",
       "      <td>46.0</td>\n",
       "      <td>44.0</td>\n",
       "      <td>20.0</td>\n",
       "      <td>156.0</td>\n",
       "      <td>78.0</td>\n",
       "      <td>...</td>\n",
       "      <td>24.0</td>\n",
       "      <td>10.0</td>\n",
       "      <td>6.0</td>\n",
       "      <td>64.0</td>\n",
       "      <td>0.454545</td>\n",
       "      <td>0.230769</td>\n",
       "      <td>0.500000</td>\n",
       "      <td>0.489362</td>\n",
       "      <td>0.906250</td>\n",
       "      <td>0.923077</td>\n",
       "    </tr>\n",
       "    <tr>\n",
       "      <th>3</th>\n",
       "      <td>48740</td>\n",
       "      <td>2018</td>\n",
       "      <td>119</td>\n",
       "      <td>30</td>\n",
       "      <td>1</td>\n",
       "      <td>70.0</td>\n",
       "      <td>70.0</td>\n",
       "      <td>24.0</td>\n",
       "      <td>184.0</td>\n",
       "      <td>92.0</td>\n",
       "      <td>...</td>\n",
       "      <td>44.0</td>\n",
       "      <td>12.0</td>\n",
       "      <td>6.0</td>\n",
       "      <td>70.0</td>\n",
       "      <td>0.342857</td>\n",
       "      <td>0.315789</td>\n",
       "      <td>0.500000</td>\n",
       "      <td>0.375000</td>\n",
       "      <td>0.937500</td>\n",
       "      <td>0.880000</td>\n",
       "    </tr>\n",
       "    <tr>\n",
       "      <th>4</th>\n",
       "      <td>48746</td>\n",
       "      <td>2018</td>\n",
       "      <td>102</td>\n",
       "      <td>26</td>\n",
       "      <td>1</td>\n",
       "      <td>36.0</td>\n",
       "      <td>52.0</td>\n",
       "      <td>18.0</td>\n",
       "      <td>180.0</td>\n",
       "      <td>74.0</td>\n",
       "      <td>...</td>\n",
       "      <td>18.0</td>\n",
       "      <td>12.0</td>\n",
       "      <td>16.0</td>\n",
       "      <td>76.0</td>\n",
       "      <td>0.346154</td>\n",
       "      <td>0.333333</td>\n",
       "      <td>0.411111</td>\n",
       "      <td>0.431818</td>\n",
       "      <td>0.760000</td>\n",
       "      <td>0.473684</td>\n",
       "    </tr>\n",
       "  </tbody>\n",
       "</table>\n",
       "<p>5 rows × 33 columns</p>\n",
       "</div>"
      ],
      "text/plain": [
       "   game_id  season  home_team_score  home_team_id  home_team_won  home_ast  \\\n",
       "0    47179    2018              126             2              1      68.0   \n",
       "1    48751    2018              112             2              0      42.0   \n",
       "2    48739    2018              117            23              1      46.0   \n",
       "3    48740    2018              119            30              1      70.0   \n",
       "4    48746    2018              102            26              1      36.0   \n",
       "\n",
       "   home_fg3a  home_fg3m  home_fga  home_fgm  ...  away_ftm  away_stl  \\\n",
       "0       58.0       24.0     180.0     100.0  ...       6.0      14.0   \n",
       "1       52.0       18.0     184.0      78.0  ...      62.0      12.0   \n",
       "2       44.0       20.0     156.0      78.0  ...      24.0      10.0   \n",
       "3       70.0       24.0     184.0      92.0  ...      44.0      12.0   \n",
       "4       52.0       18.0     180.0      74.0  ...      18.0      12.0   \n",
       "\n",
       "   away_blk  away_dreb  home_fg3pct  away_fg3pct  home_fgpct  away_fgpct  \\\n",
       "0      10.0       48.0     0.413793     0.325000    0.555556    0.438202   \n",
       "1      12.0       86.0     0.346154     0.400000    0.423913    0.476190   \n",
       "2       6.0       64.0     0.454545     0.230769    0.500000    0.489362   \n",
       "3       6.0       70.0     0.342857     0.315789    0.500000    0.375000   \n",
       "4      16.0       76.0     0.346154     0.333333    0.411111    0.431818   \n",
       "\n",
       "   home_ftpct  away_ftpct  \n",
       "0    0.875000    0.428571  \n",
       "1    0.806452    0.775000  \n",
       "2    0.906250    0.923077  \n",
       "3    0.937500    0.880000  \n",
       "4    0.760000    0.473684  \n",
       "\n",
       "[5 rows x 33 columns]"
      ]
     },
     "execution_count": 25,
     "metadata": {},
     "output_type": "execute_result"
    }
   ],
   "source": [
    "historical_games_df.head()"
   ]
  },
  {
   "cell_type": "code",
   "execution_count": 26,
   "id": "bibliographic-repeat",
   "metadata": {},
   "outputs": [
    {
     "data": {
      "text/plain": [
       "Index(['game_id', 'season', 'home_team_score', 'home_team_id', 'home_team_won',\n",
       "       'home_ast', 'home_fg3a', 'home_fg3m', 'home_fga', 'home_fgm',\n",
       "       'home_fta', 'home_ftm', 'home_stl', 'home_blk', 'home_dreb',\n",
       "       'away_team_score', 'away_team_id', 'away_ast', 'away_fg3a', 'away_fg3m',\n",
       "       'away_fga', 'away_fgm', 'away_fta', 'away_ftm', 'away_stl', 'away_blk',\n",
       "       'away_dreb', 'home_fg3pct', 'away_fg3pct', 'home_fgpct', 'away_fgpct',\n",
       "       'home_ftpct', 'away_ftpct'],\n",
       "      dtype='object')"
      ]
     },
     "execution_count": 26,
     "metadata": {},
     "output_type": "execute_result"
    }
   ],
   "source": [
    "historical_games_df.columns"
   ]
  },
  {
   "cell_type": "markdown",
   "id": "fourth-august",
   "metadata": {},
   "source": [
    "### Get Final Dataset for 2023 Schedule"
   ]
  },
  {
   "cell_type": "markdown",
   "id": "romance-processor",
   "metadata": {},
   "source": [
    "#### Combine teams API data with Basketball Reference 2023 Schedule data."
   ]
  },
  {
   "cell_type": "code",
   "execution_count": 27,
   "id": "induced-smile",
   "metadata": {},
   "outputs": [],
   "source": [
    "teams = pd.read_csv('team_info.csv')"
   ]
  },
  {
   "cell_type": "code",
   "execution_count": 28,
   "id": "conceptual-rover",
   "metadata": {},
   "outputs": [],
   "source": [
    "team_ids = teams[['full_name','id']]"
   ]
  },
  {
   "cell_type": "code",
   "execution_count": 29,
   "id": "velvet-privilege",
   "metadata": {},
   "outputs": [],
   "source": [
    "games_2023_df = games_2023.merge(team_ids, how='left',left_on='away_team',right_on='full_name'\n",
    "                         ).rename(columns={'id':'away_team_id'}\n",
    "                         ).merge(team_ids, how='left',left_on='home_team',right_on='full_name'\n",
    "                         ).rename(columns={'id':'home_team_id'}\n",
    "                         ).drop(columns=['full_name_x','full_name_y'])"
   ]
  },
  {
   "cell_type": "code",
   "execution_count": 30,
   "id": "quantitative-bahrain",
   "metadata": {},
   "outputs": [
    {
     "data": {
      "text/html": [
       "<div>\n",
       "<style scoped>\n",
       "    .dataframe tbody tr th:only-of-type {\n",
       "        vertical-align: middle;\n",
       "    }\n",
       "\n",
       "    .dataframe tbody tr th {\n",
       "        vertical-align: top;\n",
       "    }\n",
       "\n",
       "    .dataframe thead th {\n",
       "        text-align: right;\n",
       "    }\n",
       "</style>\n",
       "<table border=\"1\" class=\"dataframe\">\n",
       "  <thead>\n",
       "    <tr style=\"text-align: right;\">\n",
       "      <th></th>\n",
       "      <th>date</th>\n",
       "      <th>time_et</th>\n",
       "      <th>away_team</th>\n",
       "      <th>home_team</th>\n",
       "      <th>away_team_id</th>\n",
       "      <th>home_team_id</th>\n",
       "    </tr>\n",
       "  </thead>\n",
       "  <tbody>\n",
       "    <tr>\n",
       "      <th>0</th>\n",
       "      <td>Wed Oct 26 2022</td>\n",
       "      <td>8:00p</td>\n",
       "      <td>San Antonio Spurs</td>\n",
       "      <td>Minnesota Timberwolves</td>\n",
       "      <td>27</td>\n",
       "      <td>18</td>\n",
       "    </tr>\n",
       "    <tr>\n",
       "      <th>1</th>\n",
       "      <td>Wed Oct 26 2022</td>\n",
       "      <td>7:30p</td>\n",
       "      <td>Philadelphia 76ers</td>\n",
       "      <td>Toronto Raptors</td>\n",
       "      <td>23</td>\n",
       "      <td>28</td>\n",
       "    </tr>\n",
       "    <tr>\n",
       "      <th>2</th>\n",
       "      <td>Wed Oct 26 2022</td>\n",
       "      <td>7:00p</td>\n",
       "      <td>Orlando Magic</td>\n",
       "      <td>Cleveland Cavaliers</td>\n",
       "      <td>22</td>\n",
       "      <td>6</td>\n",
       "    </tr>\n",
       "    <tr>\n",
       "      <th>3</th>\n",
       "      <td>Wed Oct 26 2022</td>\n",
       "      <td>10:00p</td>\n",
       "      <td>Miami Heat</td>\n",
       "      <td>Portland Trail Blazers</td>\n",
       "      <td>16</td>\n",
       "      <td>25</td>\n",
       "    </tr>\n",
       "    <tr>\n",
       "      <th>4</th>\n",
       "      <td>Wed Oct 26 2022</td>\n",
       "      <td>10:00p</td>\n",
       "      <td>Los Angeles Lakers</td>\n",
       "      <td>Denver Nuggets</td>\n",
       "      <td>14</td>\n",
       "      <td>8</td>\n",
       "    </tr>\n",
       "  </tbody>\n",
       "</table>\n",
       "</div>"
      ],
      "text/plain": [
       "              date time_et           away_team               home_team  \\\n",
       "0  Wed Oct 26 2022   8:00p   San Antonio Spurs  Minnesota Timberwolves   \n",
       "1  Wed Oct 26 2022   7:30p  Philadelphia 76ers         Toronto Raptors   \n",
       "2  Wed Oct 26 2022   7:00p       Orlando Magic     Cleveland Cavaliers   \n",
       "3  Wed Oct 26 2022  10:00p          Miami Heat  Portland Trail Blazers   \n",
       "4  Wed Oct 26 2022  10:00p  Los Angeles Lakers          Denver Nuggets   \n",
       "\n",
       "   away_team_id  home_team_id  \n",
       "0            27            18  \n",
       "1            23            28  \n",
       "2            22             6  \n",
       "3            16            25  \n",
       "4            14             8  "
      ]
     },
     "execution_count": 30,
     "metadata": {},
     "output_type": "execute_result"
    }
   ],
   "source": [
    "games_2023_df.head()"
   ]
  },
  {
   "cell_type": "markdown",
   "id": "casual-oakland",
   "metadata": {},
   "source": [
    "#### Get 7-year percentage stats per team"
   ]
  },
  {
   "cell_type": "markdown",
   "id": "thousand-dylan",
   "metadata": {},
   "source": [
    "As input for 2023 prediction, we will assume that each team will perform roughly how they've performed over the last 7 years. Of course, this doesn't work well for some teams that have had major trades, but taking each team's average performance against each other in recent years can probably get us some decent predictions!"
   ]
  },
  {
   "cell_type": "code",
   "execution_count": 31,
   "id": "nominated-liverpool",
   "metadata": {},
   "outputs": [],
   "source": [
    "name_of_pct_columns = ['home_fg3pct','home_fgpct','home_ftpct',\n",
    "                       'away_fg3pct','away_fgpct','away_ftpct']\n",
    "\n",
    "two_column_lists = [['home_fg3m','home_fg3a'],\n",
    "                    ['home_fgm','home_fga'],\n",
    "                    ['home_ftm','home_fta'],\n",
    "                    ['away_fg3m','away_fg3a'],\n",
    "                    ['away_fgm','away_fga'],\n",
    "                    ['away_ftm','away_fta']]"
   ]
  },
  {
   "cell_type": "code",
   "execution_count": 32,
   "id": "protective-pitch",
   "metadata": {},
   "outputs": [],
   "source": [
    "def get_pct_stats(data_df, two_column_list, name_of_pct_column):\n",
    "    df = data_df.groupby(['home_team_id','away_team_id',]).agg({str(two_column_list[0]):sum,\n",
    "                                                                str(two_column_list[1]):sum})\n",
    "    df[str(name_of_pct_column)] = df[str(two_column_list[0])]/df[two_column_list[1]]\n",
    "    return df[str(name_of_pct_column)]\n"
   ]
  },
  {
   "cell_type": "code",
   "execution_count": 33,
   "id": "digital-world",
   "metadata": {},
   "outputs": [],
   "source": [
    "dfs_list = []\n",
    "for i in range(len(name_of_pct_columns)):\n",
    "    name_of_pct_column = name_of_pct_columns[i]\n",
    "    two_column_list = two_column_lists[i]\n",
    "    dfs_list.append(get_pct_stats(historical_games_df, two_column_list, name_of_pct_column))\n",
    "    "
   ]
  },
  {
   "cell_type": "code",
   "execution_count": 34,
   "id": "rolled-surrey",
   "metadata": {},
   "outputs": [],
   "source": [
    "percentage_features = ft.reduce(lambda left, right: pd.merge(left, right, \n",
    "                                                             on=['home_team_id','away_team_id']), dfs_list\n",
    "                                                            ).reset_index()\n"
   ]
  },
  {
   "cell_type": "code",
   "execution_count": 35,
   "id": "satisfied-kingdom",
   "metadata": {
    "scrolled": true
   },
   "outputs": [
    {
     "data": {
      "text/html": [
       "<div>\n",
       "<style scoped>\n",
       "    .dataframe tbody tr th:only-of-type {\n",
       "        vertical-align: middle;\n",
       "    }\n",
       "\n",
       "    .dataframe tbody tr th {\n",
       "        vertical-align: top;\n",
       "    }\n",
       "\n",
       "    .dataframe thead th {\n",
       "        text-align: right;\n",
       "    }\n",
       "</style>\n",
       "<table border=\"1\" class=\"dataframe\">\n",
       "  <thead>\n",
       "    <tr style=\"text-align: right;\">\n",
       "      <th></th>\n",
       "      <th>home_team_id</th>\n",
       "      <th>away_team_id</th>\n",
       "      <th>home_fg3pct</th>\n",
       "      <th>home_fgpct</th>\n",
       "      <th>home_ftpct</th>\n",
       "      <th>away_fg3pct</th>\n",
       "      <th>away_fgpct</th>\n",
       "      <th>away_ftpct</th>\n",
       "    </tr>\n",
       "  </thead>\n",
       "  <tbody>\n",
       "    <tr>\n",
       "      <th>0</th>\n",
       "      <td>1</td>\n",
       "      <td>2</td>\n",
       "      <td>0.406162</td>\n",
       "      <td>0.490375</td>\n",
       "      <td>0.789474</td>\n",
       "      <td>0.343318</td>\n",
       "      <td>0.439614</td>\n",
       "      <td>0.806950</td>\n",
       "    </tr>\n",
       "    <tr>\n",
       "      <th>1</th>\n",
       "      <td>1</td>\n",
       "      <td>3</td>\n",
       "      <td>0.306569</td>\n",
       "      <td>0.437765</td>\n",
       "      <td>0.761155</td>\n",
       "      <td>0.359338</td>\n",
       "      <td>0.454467</td>\n",
       "      <td>0.730303</td>\n",
       "    </tr>\n",
       "    <tr>\n",
       "      <th>2</th>\n",
       "      <td>1</td>\n",
       "      <td>4</td>\n",
       "      <td>0.385714</td>\n",
       "      <td>0.496000</td>\n",
       "      <td>0.735537</td>\n",
       "      <td>0.387580</td>\n",
       "      <td>0.457584</td>\n",
       "      <td>0.759857</td>\n",
       "    </tr>\n",
       "    <tr>\n",
       "      <th>3</th>\n",
       "      <td>1</td>\n",
       "      <td>5</td>\n",
       "      <td>0.355789</td>\n",
       "      <td>0.480818</td>\n",
       "      <td>0.795597</td>\n",
       "      <td>0.401460</td>\n",
       "      <td>0.475712</td>\n",
       "      <td>0.785714</td>\n",
       "    </tr>\n",
       "    <tr>\n",
       "      <th>4</th>\n",
       "      <td>1</td>\n",
       "      <td>6</td>\n",
       "      <td>0.361446</td>\n",
       "      <td>0.469435</td>\n",
       "      <td>0.796935</td>\n",
       "      <td>0.369748</td>\n",
       "      <td>0.465986</td>\n",
       "      <td>0.731602</td>\n",
       "    </tr>\n",
       "  </tbody>\n",
       "</table>\n",
       "</div>"
      ],
      "text/plain": [
       "   home_team_id  away_team_id  home_fg3pct  home_fgpct  home_ftpct  \\\n",
       "0             1             2     0.406162    0.490375    0.789474   \n",
       "1             1             3     0.306569    0.437765    0.761155   \n",
       "2             1             4     0.385714    0.496000    0.735537   \n",
       "3             1             5     0.355789    0.480818    0.795597   \n",
       "4             1             6     0.361446    0.469435    0.796935   \n",
       "\n",
       "   away_fg3pct  away_fgpct  away_ftpct  \n",
       "0     0.343318    0.439614    0.806950  \n",
       "1     0.359338    0.454467    0.730303  \n",
       "2     0.387580    0.457584    0.759857  \n",
       "3     0.401460    0.475712    0.785714  \n",
       "4     0.369748    0.465986    0.731602  "
      ]
     },
     "execution_count": 35,
     "metadata": {},
     "output_type": "execute_result"
    }
   ],
   "source": [
    "percentage_features.head()"
   ]
  },
  {
   "cell_type": "markdown",
   "id": "cognitive-abraham",
   "metadata": {},
   "source": [
    "Great! We now have our percentage features. We also need to get our 7-year average stats."
   ]
  },
  {
   "cell_type": "markdown",
   "id": "external-cleveland",
   "metadata": {},
   "source": [
    "#### Get 7-year average stats per team "
   ]
  },
  {
   "cell_type": "code",
   "execution_count": 36,
   "id": "forward-sword",
   "metadata": {},
   "outputs": [],
   "source": [
    "#columns for df\n",
    "columns = ['home_team_id','away_team_id',\n",
    "                  'home_ast', 'home_blk', 'home_dreb', 'home_stl',\n",
    "                  'away_ast', 'away_blk', 'away_dreb', 'away_stl']\n",
    "\n",
    "#get names for avg colums\n",
    "name_of_avg_columns=[]\n",
    "for col in columns[2:]:\n",
    "    name_of_avg_columns.append(col+'_avg')\n",
    "\n",
    "#avg_df\n",
    "avg_df = historical_games_df[columns]"
   ]
  },
  {
   "cell_type": "code",
   "execution_count": 37,
   "id": "anticipated-manhattan",
   "metadata": {},
   "outputs": [],
   "source": [
    "average_features = avg_df.groupby(columns[0:2]).mean().reset_index()"
   ]
  },
  {
   "cell_type": "code",
   "execution_count": 38,
   "id": "useful-commodity",
   "metadata": {},
   "outputs": [],
   "source": [
    "for i in range(len(average_features.iloc[:,2:].columns)):\n",
    "    average_features.rename(columns={str(average_features.iloc[:,2+i:3+i].columns.values[0]):name_of_avg_columns[i]},inplace=True)\n",
    "    "
   ]
  },
  {
   "cell_type": "code",
   "execution_count": 39,
   "id": "geographic-fetish",
   "metadata": {},
   "outputs": [
    {
     "data": {
      "text/html": [
       "<div>\n",
       "<style scoped>\n",
       "    .dataframe tbody tr th:only-of-type {\n",
       "        vertical-align: middle;\n",
       "    }\n",
       "\n",
       "    .dataframe tbody tr th {\n",
       "        vertical-align: top;\n",
       "    }\n",
       "\n",
       "    .dataframe thead th {\n",
       "        text-align: right;\n",
       "    }\n",
       "</style>\n",
       "<table border=\"1\" class=\"dataframe\">\n",
       "  <thead>\n",
       "    <tr style=\"text-align: right;\">\n",
       "      <th></th>\n",
       "      <th>home_team_id</th>\n",
       "      <th>away_team_id</th>\n",
       "      <th>home_ast_avg</th>\n",
       "      <th>home_blk_avg</th>\n",
       "      <th>home_dreb_avg</th>\n",
       "      <th>home_stl_avg</th>\n",
       "      <th>away_ast_avg</th>\n",
       "      <th>away_blk_avg</th>\n",
       "      <th>away_dreb_avg</th>\n",
       "      <th>away_stl_avg</th>\n",
       "    </tr>\n",
       "  </thead>\n",
       "  <tbody>\n",
       "    <tr>\n",
       "      <th>0</th>\n",
       "      <td>1</td>\n",
       "      <td>2</td>\n",
       "      <td>24.833333</td>\n",
       "      <td>5.583333</td>\n",
       "      <td>33.583333</td>\n",
       "      <td>7.500000</td>\n",
       "      <td>23.416667</td>\n",
       "      <td>4.416667</td>\n",
       "      <td>30.750000</td>\n",
       "      <td>8.583333</td>\n",
       "    </tr>\n",
       "    <tr>\n",
       "      <th>1</th>\n",
       "      <td>1</td>\n",
       "      <td>3</td>\n",
       "      <td>25.250000</td>\n",
       "      <td>5.083333</td>\n",
       "      <td>36.750000</td>\n",
       "      <td>9.916667</td>\n",
       "      <td>26.916667</td>\n",
       "      <td>6.000000</td>\n",
       "      <td>36.833333</td>\n",
       "      <td>8.083333</td>\n",
       "    </tr>\n",
       "    <tr>\n",
       "      <th>2</th>\n",
       "      <td>1</td>\n",
       "      <td>4</td>\n",
       "      <td>30.083333</td>\n",
       "      <td>4.250000</td>\n",
       "      <td>38.583333</td>\n",
       "      <td>6.333333</td>\n",
       "      <td>27.500000</td>\n",
       "      <td>4.583333</td>\n",
       "      <td>34.916667</td>\n",
       "      <td>9.083333</td>\n",
       "    </tr>\n",
       "    <tr>\n",
       "      <th>3</th>\n",
       "      <td>1</td>\n",
       "      <td>5</td>\n",
       "      <td>28.583333</td>\n",
       "      <td>6.583333</td>\n",
       "      <td>39.333333</td>\n",
       "      <td>9.750000</td>\n",
       "      <td>27.583333</td>\n",
       "      <td>4.083333</td>\n",
       "      <td>38.083333</td>\n",
       "      <td>9.333333</td>\n",
       "    </tr>\n",
       "    <tr>\n",
       "      <th>4</th>\n",
       "      <td>1</td>\n",
       "      <td>6</td>\n",
       "      <td>25.200000</td>\n",
       "      <td>4.700000</td>\n",
       "      <td>33.600000</td>\n",
       "      <td>6.900000</td>\n",
       "      <td>26.100000</td>\n",
       "      <td>4.000000</td>\n",
       "      <td>32.100000</td>\n",
       "      <td>7.300000</td>\n",
       "    </tr>\n",
       "  </tbody>\n",
       "</table>\n",
       "</div>"
      ],
      "text/plain": [
       "   home_team_id  away_team_id  home_ast_avg  home_blk_avg  home_dreb_avg  \\\n",
       "0             1             2     24.833333      5.583333      33.583333   \n",
       "1             1             3     25.250000      5.083333      36.750000   \n",
       "2             1             4     30.083333      4.250000      38.583333   \n",
       "3             1             5     28.583333      6.583333      39.333333   \n",
       "4             1             6     25.200000      4.700000      33.600000   \n",
       "\n",
       "   home_stl_avg  away_ast_avg  away_blk_avg  away_dreb_avg  away_stl_avg  \n",
       "0      7.500000     23.416667      4.416667      30.750000      8.583333  \n",
       "1      9.916667     26.916667      6.000000      36.833333      8.083333  \n",
       "2      6.333333     27.500000      4.583333      34.916667      9.083333  \n",
       "3      9.750000     27.583333      4.083333      38.083333      9.333333  \n",
       "4      6.900000     26.100000      4.000000      32.100000      7.300000  "
      ]
     },
     "execution_count": 39,
     "metadata": {},
     "output_type": "execute_result"
    }
   ],
   "source": [
    "average_features.head()"
   ]
  },
  {
   "cell_type": "markdown",
   "id": "baking-yeast",
   "metadata": {},
   "source": [
    "#### Combine pct_df with avg_df to create final df for model input to predict 2023 wins and losses"
   ]
  },
  {
   "cell_type": "code",
   "execution_count": 40,
   "id": "floating-croatia",
   "metadata": {},
   "outputs": [],
   "source": [
    "dfs_list = [games_2023_df,percentage_features,average_features]\n",
    "prediction_features = ft.reduce(lambda left, right: pd.merge(left, right, \n",
    "                                                             on=['home_team_id','away_team_id']), dfs_list\n",
    "                                                            )"
   ]
  },
  {
   "cell_type": "markdown",
   "id": "turkish-mention",
   "metadata": {},
   "source": [
    "#### Order the df_2023 into appropriate order"
   ]
  },
  {
   "cell_type": "code",
   "execution_count": 41,
   "id": "owned-adult",
   "metadata": {},
   "outputs": [],
   "source": [
    "prediction_features['season']=2022 #2022-2023\n",
    "df_2023 = prediction_features[input_2023]"
   ]
  },
  {
   "cell_type": "code",
   "execution_count": 42,
   "id": "obvious-scheme",
   "metadata": {},
   "outputs": [
    {
     "data": {
      "text/html": [
       "<div>\n",
       "<style scoped>\n",
       "    .dataframe tbody tr th:only-of-type {\n",
       "        vertical-align: middle;\n",
       "    }\n",
       "\n",
       "    .dataframe tbody tr th {\n",
       "        vertical-align: top;\n",
       "    }\n",
       "\n",
       "    .dataframe thead th {\n",
       "        text-align: right;\n",
       "    }\n",
       "</style>\n",
       "<table border=\"1\" class=\"dataframe\">\n",
       "  <thead>\n",
       "    <tr style=\"text-align: right;\">\n",
       "      <th></th>\n",
       "      <th>home_team_id</th>\n",
       "      <th>away_team_id</th>\n",
       "      <th>season</th>\n",
       "      <th>home_fg3pct</th>\n",
       "      <th>home_fgpct</th>\n",
       "      <th>home_ftpct</th>\n",
       "      <th>away_fg3pct</th>\n",
       "      <th>away_fgpct</th>\n",
       "      <th>away_ftpct</th>\n",
       "      <th>home_ast_avg</th>\n",
       "      <th>home_blk_avg</th>\n",
       "      <th>home_dreb_avg</th>\n",
       "      <th>home_stl_avg</th>\n",
       "      <th>away_ast_avg</th>\n",
       "      <th>away_blk_avg</th>\n",
       "      <th>away_dreb_avg</th>\n",
       "      <th>away_stl_avg</th>\n",
       "    </tr>\n",
       "  </thead>\n",
       "  <tbody>\n",
       "    <tr>\n",
       "      <th>0</th>\n",
       "      <td>18</td>\n",
       "      <td>27</td>\n",
       "      <td>2022</td>\n",
       "      <td>0.389728</td>\n",
       "      <td>0.460539</td>\n",
       "      <td>0.776892</td>\n",
       "      <td>0.322476</td>\n",
       "      <td>0.460930</td>\n",
       "      <td>0.793651</td>\n",
       "      <td>23.000000</td>\n",
       "      <td>3.916667</td>\n",
       "      <td>32.583333</td>\n",
       "      <td>6.916667</td>\n",
       "      <td>23.500000</td>\n",
       "      <td>5.000000</td>\n",
       "      <td>32.416667</td>\n",
       "      <td>6.75</td>\n",
       "    </tr>\n",
       "    <tr>\n",
       "      <th>1</th>\n",
       "      <td>18</td>\n",
       "      <td>27</td>\n",
       "      <td>2022</td>\n",
       "      <td>0.389728</td>\n",
       "      <td>0.460539</td>\n",
       "      <td>0.776892</td>\n",
       "      <td>0.322476</td>\n",
       "      <td>0.460930</td>\n",
       "      <td>0.793651</td>\n",
       "      <td>23.000000</td>\n",
       "      <td>3.916667</td>\n",
       "      <td>32.583333</td>\n",
       "      <td>6.916667</td>\n",
       "      <td>23.500000</td>\n",
       "      <td>5.000000</td>\n",
       "      <td>32.416667</td>\n",
       "      <td>6.75</td>\n",
       "    </tr>\n",
       "    <tr>\n",
       "      <th>2</th>\n",
       "      <td>28</td>\n",
       "      <td>23</td>\n",
       "      <td>2022</td>\n",
       "      <td>0.371230</td>\n",
       "      <td>0.470301</td>\n",
       "      <td>0.791798</td>\n",
       "      <td>0.370833</td>\n",
       "      <td>0.417384</td>\n",
       "      <td>0.734328</td>\n",
       "      <td>24.214286</td>\n",
       "      <td>6.500000</td>\n",
       "      <td>34.928571</td>\n",
       "      <td>9.285714</td>\n",
       "      <td>23.214286</td>\n",
       "      <td>5.928571</td>\n",
       "      <td>32.500000</td>\n",
       "      <td>7.50</td>\n",
       "    </tr>\n",
       "    <tr>\n",
       "      <th>3</th>\n",
       "      <td>28</td>\n",
       "      <td>23</td>\n",
       "      <td>2022</td>\n",
       "      <td>0.371230</td>\n",
       "      <td>0.470301</td>\n",
       "      <td>0.791798</td>\n",
       "      <td>0.370833</td>\n",
       "      <td>0.417384</td>\n",
       "      <td>0.734328</td>\n",
       "      <td>24.214286</td>\n",
       "      <td>6.500000</td>\n",
       "      <td>34.928571</td>\n",
       "      <td>9.285714</td>\n",
       "      <td>23.214286</td>\n",
       "      <td>5.928571</td>\n",
       "      <td>32.500000</td>\n",
       "      <td>7.50</td>\n",
       "    </tr>\n",
       "    <tr>\n",
       "      <th>4</th>\n",
       "      <td>6</td>\n",
       "      <td>22</td>\n",
       "      <td>2022</td>\n",
       "      <td>0.340249</td>\n",
       "      <td>0.443130</td>\n",
       "      <td>0.752475</td>\n",
       "      <td>0.315508</td>\n",
       "      <td>0.444444</td>\n",
       "      <td>0.751004</td>\n",
       "      <td>25.666667</td>\n",
       "      <td>4.250000</td>\n",
       "      <td>37.750000</td>\n",
       "      <td>7.833333</td>\n",
       "      <td>25.333333</td>\n",
       "      <td>5.333333</td>\n",
       "      <td>37.416667</td>\n",
       "      <td>8.25</td>\n",
       "    </tr>\n",
       "  </tbody>\n",
       "</table>\n",
       "</div>"
      ],
      "text/plain": [
       "   home_team_id  away_team_id  season  home_fg3pct  home_fgpct  home_ftpct  \\\n",
       "0            18            27    2022     0.389728    0.460539    0.776892   \n",
       "1            18            27    2022     0.389728    0.460539    0.776892   \n",
       "2            28            23    2022     0.371230    0.470301    0.791798   \n",
       "3            28            23    2022     0.371230    0.470301    0.791798   \n",
       "4             6            22    2022     0.340249    0.443130    0.752475   \n",
       "\n",
       "   away_fg3pct  away_fgpct  away_ftpct  home_ast_avg  home_blk_avg  \\\n",
       "0     0.322476    0.460930    0.793651     23.000000      3.916667   \n",
       "1     0.322476    0.460930    0.793651     23.000000      3.916667   \n",
       "2     0.370833    0.417384    0.734328     24.214286      6.500000   \n",
       "3     0.370833    0.417384    0.734328     24.214286      6.500000   \n",
       "4     0.315508    0.444444    0.751004     25.666667      4.250000   \n",
       "\n",
       "   home_dreb_avg  home_stl_avg  away_ast_avg  away_blk_avg  away_dreb_avg  \\\n",
       "0      32.583333      6.916667     23.500000      5.000000      32.416667   \n",
       "1      32.583333      6.916667     23.500000      5.000000      32.416667   \n",
       "2      34.928571      9.285714     23.214286      5.928571      32.500000   \n",
       "3      34.928571      9.285714     23.214286      5.928571      32.500000   \n",
       "4      37.750000      7.833333     25.333333      5.333333      37.416667   \n",
       "\n",
       "   away_stl_avg  \n",
       "0          6.75  \n",
       "1          6.75  \n",
       "2          7.50  \n",
       "3          7.50  \n",
       "4          8.25  "
      ]
     },
     "execution_count": 42,
     "metadata": {},
     "output_type": "execute_result"
    }
   ],
   "source": [
    "df_2023.head()"
   ]
  },
  {
   "cell_type": "markdown",
   "id": "starting-album",
   "metadata": {},
   "source": [
    "...and we finally have our final table to create predictions for 2022-2023 season games! Now, time to move to creating the actial models."
   ]
  },
  {
   "cell_type": "markdown",
   "id": "composite-regular",
   "metadata": {},
   "source": [
    "## Supervised Learning Models"
   ]
  },
  {
   "cell_type": "markdown",
   "id": "golden-preparation",
   "metadata": {},
   "source": [
    "Let's create some supervised learning models! We have our input data ready to use (historical_games_df). To predict how one team plays against another, we take this data (the last 7 years' worth of regular season games) and plug it into our desired models. But first, let's get a baseline!"
   ]
  },
  {
   "cell_type": "markdown",
   "id": "changing-offset",
   "metadata": {},
   "source": [
    "### Baseline"
   ]
  },
  {
   "cell_type": "code",
   "execution_count": 43,
   "id": "suspended-shakespeare",
   "metadata": {},
   "outputs": [
    {
     "data": {
      "text/plain": [
       "0.5678921568627451"
      ]
     },
     "execution_count": 43,
     "metadata": {},
     "output_type": "execute_result"
    }
   ],
   "source": [
    "historical_games_df['home_team_won'].sum()/len(historical_games_df)"
   ]
  },
  {
   "cell_type": "markdown",
   "id": "deadly-throat",
   "metadata": {},
   "source": [
    "If someone guessed at random, they'd ~ in theory ~ have a 50% chance of being correct. But what if they always chose the home team as the winner? In the last 7 years, they'd be correct ~57% of the time! So we're hoping to create a model that's better than 57%."
   ]
  },
  {
   "cell_type": "markdown",
   "id": "municipal-andrews",
   "metadata": {},
   "source": [
    "### Model Selection"
   ]
  },
  {
   "cell_type": "markdown",
   "id": "tough-soldier",
   "metadata": {},
   "source": [
    "The output of our model is a boolean (0 or 1). We decided that it would be best to test out a Logistic Regression, Random Forest Classifier, and XGBoost model."
   ]
  },
  {
   "cell_type": "markdown",
   "id": "israeli-cosmetic",
   "metadata": {},
   "source": [
    "###  Create Models, Get Best Params, & Evaluate Models"
   ]
  },
  {
   "cell_type": "code",
   "execution_count": 44,
   "id": "endangered-joint",
   "metadata": {},
   "outputs": [],
   "source": [
    "model_df = historical_games_df[final_features].dropna() #do a final dropna for the very few remaining rows with "
   ]
  },
  {
   "cell_type": "code",
   "execution_count": 45,
   "id": "august-devon",
   "metadata": {
    "scrolled": true
   },
   "outputs": [
    {
     "data": {
      "text/plain": [
       "Text(0, 0.5, 'Testing Accuracy')"
      ]
     },
     "execution_count": 45,
     "metadata": {},
     "output_type": "execute_result"
    },
    {
     "data": {
      "image/png": "[encoded data removed]",
      "text/plain": [
       "<Figure size 432x288 with 1 Axes>"
      ]
     },
     "metadata": {
      "needs_background": "light"
     },
     "output_type": "display_data"
    }
   ],
   "source": [
    "#For a basic RandomForestClassifier, it will be useful to see where n_estimators tapers out\n",
    "X = model_df.loc[:, model_df.columns != 'home_team_won']\n",
    "y = model_df.loc[:, model_df.columns == 'home_team_won']\n",
    "X_train, X_test, y_train, y_test = train_test_split(X, y, test_size = 0.25, random_state=0)\n",
    "\n",
    "scores =[]\n",
    "for k in range(1, 200):\n",
    "    rfc = RandomForestClassifier(n_estimators=k)\n",
    "    rfc.fit(X_train, y_train)\n",
    "    y_pred = rfc.predict(X_test)\n",
    "    scores.append(accuracy_score(y_test, y_pred))\n",
    "\n",
    "import matplotlib.pyplot as plt\n",
    "%matplotlib inline\n",
    "\n",
    "# plot the relationship between K and testing accuracy\n",
    "# plt.plot(x_axis, y_axis)\n",
    "plt.plot(range(1, 200), scores)\n",
    "plt.xlabel('Value of n_estimators for Random Forest Classifier')\n",
    "plt.ylabel('Testing Accuracy')"
   ]
  },
  {
   "cell_type": "code",
   "execution_count": 46,
   "id": "human-contributor",
   "metadata": {},
   "outputs": [],
   "source": [
    "def get_best_params(model_df, clf, param_grid):\n",
    "    X = model_df.loc[:, model_df.columns != 'home_team_won']\n",
    "    y = model_df.loc[:, model_df.columns == 'home_team_won']\n",
    "    X_train, X_test, y_train, y_test = train_test_split(X, y, test_size = 0.25, random_state=0)\n",
    "\n",
    "    pipeline= Pipeline([('scaler',RobustScaler()),('clf',clf)])\n",
    "    pipeline.fit(X_train,y_train)\n",
    "\n",
    "    #Predicting y for X_val\n",
    "    y_pred = pipeline.predict(X)\n",
    "\n",
    "    number_models=5\n",
    "    \n",
    "    m_class=RandomizedSearchCV(estimator=pipeline['clf'], param_distributions=param_grid, n_iter=number_models,\n",
    "                             scoring='accuracy', n_jobs=2, cv=5, refit=True, return_train_score=True, random_state=0)\n",
    "\n",
    "    m_class.fit(X_train,y_train)\n",
    "    predictions=m_class.predict(X_test)\n",
    "    \n",
    "    a_score = accuracy_score(y_test,predictions)\n",
    "    best_params = m_class.best_params_\n",
    "    b_score = m_class.best_score_\n",
    "    \n",
    "    print(\"Accuracy Score:\",accuracy_score(y_test,predictions))\n",
    "    print(\"Best params:\",m_class.best_params_)\n",
    "    print(\"Best score:\",m_class.best_score_)\n",
    "    \n",
    "    return a_score, best_params, b_score"
   ]
  },
  {
   "cell_type": "code",
   "execution_count": 47,
   "id": "direct-glenn",
   "metadata": {},
   "outputs": [
    {
     "name": "stdout",
     "output_type": "stream",
     "text": [
      "Accuracy Score: 0.865686274509804\n",
      "Best params: {'solver': 'liblinear', 'penalty': 'l1', 'C': 1}\n",
      "Best score: 0.85896581854328\n"
     ]
    }
   ],
   "source": [
    "model = LogisticRegression(random_state=0)\n",
    "\n",
    "lr_parameter_grid = {'penalty':['l1','l2','elasticnet','none'],\n",
    "                     'C':[0,0.5,1],\n",
    "                     'solver':['liblinear','lbfgs','sag','saga']}\n",
    "\n",
    "lr_acc, lr_par, lr_bs = get_best_params(model_df, model, lr_parameter_grid)"
   ]
  },
  {
   "cell_type": "code",
   "execution_count": 48,
   "id": "joint-footwear",
   "metadata": {},
   "outputs": [
    {
     "name": "stdout",
     "output_type": "stream",
     "text": [
      "Accuracy Score: 0.8338235294117647\n",
      "Best params: {'n_estimators': 150, 'min_samples_leaf': 2, 'max_features': 15, 'max_depth': 12, 'criterion': 'gini'}\n",
      "Best score: 0.8373909116658383\n"
     ]
    }
   ],
   "source": [
    "model = RandomForestClassifier(random_state=0)\n",
    "\n",
    "rfc_parameter_grid={'n_estimators':[50,75,100,125,150],\n",
    "                    'criterion':['entropy','gini'],\n",
    "                    'max_depth':[8,10,12,14],\n",
    "                    'min_samples_leaf': [1,2,3,4],\n",
    "                    'max_features':[10,15,20,25,30]}\n",
    "\n",
    "rfc_acc, rfc_par, rfc_bs = get_best_params(model_df, model, rfc_parameter_grid)"
   ]
  },
  {
   "cell_type": "code",
   "execution_count": 49,
   "id": "preceding-nancy",
   "metadata": {},
   "outputs": [
    {
     "name": "stdout",
     "output_type": "stream",
     "text": [
      "Accuracy Score: 0.8514705882352941\n",
      "Best params: {'max_depth': 10, 'lambda': 0.5, 'eta': 0.5, 'booster': 'gbtree', 'alpha': 0.5}\n",
      "Best score: 0.8465443113740454\n"
     ]
    }
   ],
   "source": [
    "model = xgb.XGBClassifier()\n",
    "\n",
    "xgb_parameter_grid={'booster':['gbtree','gblinear'],\n",
    "                    'eta':[0.2,0.3,0.5,0.7],\n",
    "                    'max_depth':[6,10,15],\n",
    "                    'lambda':[0,0.5,1,2],\n",
    "                    'alpha':[0,0.5,1,2]\n",
    "                   }\n",
    "\n",
    "xgb_acc, xgb_par, xgb_bs = get_best_params(model_df, model, xgb_parameter_grid)"
   ]
  },
  {
   "cell_type": "code",
   "execution_count": 50,
   "id": "understood-lunch",
   "metadata": {},
   "outputs": [],
   "source": [
    "def make_prediction(df, model, test_size=0.25, random_state=0):\n",
    "    X = df.loc[:, df.columns != 'home_team_won']\n",
    "    y = df.loc[:, df.columns == 'home_team_won']\n",
    "    X_train, X_test, y_train, y_test = train_test_split(X, y, test_size = test_size, random_state=random_state)\n",
    "    \n",
    "    sc = RobustScaler()\n",
    "    X_train = sc.fit_transform(X_train)\n",
    "    X_test = sc.transform(X_test)\n",
    "    \n",
    "    clf = model.fit(X_train, y_train)\n",
    "    \n",
    "    y_pred = clf.predict(X_test)\n",
    "    pred_proba = clf.predict_proba(X_test)\n",
    "    \n",
    "    #evals\n",
    "    pred_score = clf.score(X_test, y_test)\n",
    "    cm=confusion_matrix(y_test,y_pred)\n",
    "    \n",
    "    \n",
    "    return pred_proba, y_test, pred_score, cm"
   ]
  },
  {
   "cell_type": "code",
   "execution_count": 51,
   "id": "latest-ebony",
   "metadata": {},
   "outputs": [],
   "source": [
    "lr_model = LogisticRegression(solver='liblinear',penalty='l1',C=1,random_state=0)\n",
    "rfc_model = RandomForestClassifier(n_estimators=150, min_samples_leaf= 2, max_features= 15, max_depth= 12, criterion= 'gini')\n",
    "xgb_model = xgb.XGBClassifier(max_depth= 10, reg_lambda= 0.5, eta= 0.5, booster= 'gbtree', alpha= 0.5)"
   ]
  },
  {
   "cell_type": "code",
   "execution_count": 52,
   "id": "compound-worth",
   "metadata": {},
   "outputs": [],
   "source": [
    "lr_pred_proba, lr_y_test, lr_score, lr_cm = make_prediction(model_df, lr_model)"
   ]
  },
  {
   "cell_type": "code",
   "execution_count": 53,
   "id": "suited-language",
   "metadata": {},
   "outputs": [],
   "source": [
    "rfc_pred_proba, rfc_y_test, rfc_score, rfc_cm = make_prediction(model_df, rfc_model)"
   ]
  },
  {
   "cell_type": "code",
   "execution_count": 54,
   "id": "arbitrary-asthma",
   "metadata": {},
   "outputs": [],
   "source": [
    "xgb_pred_proba, xgb_y_test, xgb_score, xgb_cm = make_prediction(model_df, xgb_model)"
   ]
  },
  {
   "cell_type": "code",
   "execution_count": 55,
   "id": "pointed-attendance",
   "metadata": {},
   "outputs": [
    {
     "data": {
      "image/png": "[encoded data removed]",
      "text/plain": [
       "<Figure size 576x576 with 1 Axes>"
      ]
     },
     "metadata": {},
     "output_type": "display_data"
    }
   ],
   "source": [
    "plt.style.use('seaborn')\n",
    "# roc curve for models\n",
    "lr_fpr, lr_tpr, lr_thresh = roc_curve(lr_y_test, lr_pred_proba[:,1], pos_label=1)\n",
    "rfc_fpr, rfc_tpr, rfc_thresh = roc_curve(rfc_y_test, rfc_pred_proba[:,1], pos_label=1)\n",
    "xgb_fpr, xgb_tpr, xgb_thresh = roc_curve(xgb_y_test, xgb_pred_proba[:,1], pos_label=1)\n",
    "\n",
    "# roc curve for tpr = fpr \n",
    "random_probs = [0 for i in range(len(lr_y_test))]\n",
    "p_fpr, p_tpr, _ = roc_curve(lr_y_test, random_probs, pos_label=1)\n",
    "\n",
    "# auc scores\n",
    "lr_auc_score = roc_auc_score(lr_y_test, lr_pred_proba[:,1])\n",
    "rfc_auc_score = roc_auc_score(rfc_y_test, rfc_pred_proba[:,1])\n",
    "xgb_auc_score = roc_auc_score(xgb_y_test, xgb_pred_proba[:,1])\n",
    "   \n",
    "# plot roc curves\n",
    "plt.figure(figsize=(8,8))\n",
    "plt.plot(lr_fpr, lr_tpr, linestyle='--',color='orange', label='Logistic Regression',)\n",
    "plt.plot(rfc_fpr, rfc_tpr, linestyle='--',color='green', label='Random Forest Classifier')\n",
    "plt.plot(xgb_fpr, xgb_tpr, linestyle='--',color='blue', label='XGBoost')\n",
    "plt.plot(p_fpr, p_tpr, linestyle='--', color='red')\n",
    "plt.title('ROC curves')\n",
    "plt.xlabel('False Positive Rate')\n",
    "plt.ylabel('True Positive rate')\n",
    "plt.legend(loc='right');"
   ]
  },
  {
   "cell_type": "code",
   "execution_count": 56,
   "id": "multiple-observation",
   "metadata": {},
   "outputs": [
    {
     "data": {
      "image/png": "[encoded data removed]",
      "text/plain": [
       "<Figure size 864x432 with 2 Axes>"
      ]
     },
     "metadata": {},
     "output_type": "display_data"
    }
   ],
   "source": [
    "#Logistic Regression Confusion Matrix\n",
    "plt.figure(figsize=(12,6))\n",
    "plt.title(\"Logistic Regression Confusion Matrix\")\n",
    "sns.heatmap(lr_cm, annot=True,fmt='d', cmap='Reds')\n",
    "plt.ylabel(\"Actual Values\")\n",
    "plt.xlabel(\"Predicted Values\");"
   ]
  },
  {
   "cell_type": "markdown",
   "id": "compressed-being",
   "metadata": {},
   "source": [
    "### Make Predictions"
   ]
  },
  {
   "cell_type": "code",
   "execution_count": 57,
   "id": "infectious-liability",
   "metadata": {},
   "outputs": [],
   "source": [
    "lr_model = LogisticRegression(solver='liblinear',penalty='l1',C=1,random_state=0)\n",
    "rfc_model = RandomForestClassifier(n_estimators=150, min_samples_leaf= 2, max_features= 15, max_depth= 12, criterion= 'gini')\n",
    "xgb_model = xgb.XGBClassifier(max_depth= 10, reg_lambda= 0.5, eta= 0.5, booster= 'gbtree', alpha= 0.5)"
   ]
  },
  {
   "cell_type": "code",
   "execution_count": 58,
   "id": "aquatic-uniform",
   "metadata": {},
   "outputs": [],
   "source": [
    "def make_2023_prediction(df_train, df_predict, model, test_size=0.25, random_state=0):\n",
    "    X = df_train.loc[:, df_train.columns != 'home_team_won']\n",
    "    y = df_train.loc[:, df_train.columns == 'home_team_won']\n",
    "    X_train, X_test, y_train, y_test = train_test_split(X, y, test_size = test_size, random_state=random_state)\n",
    "    \n",
    "    sc = RobustScaler()\n",
    "    X_train = sc.fit_transform(X_train)\n",
    "    X_test = sc.transform(X_test)\n",
    "    \n",
    "    clf = model.fit(X_train, y_train)\n",
    "    \n",
    "    y_pred = clf.predict(X_test)\n",
    "    pred_score = clf.score(X_test, y_test)\n",
    "    \n",
    "    print('Model accuracy score:',pred_score)\n",
    "    \n",
    "    print('Running model on 2023 data...')\n",
    "    prediction_list = sc.transform(df_predict.values.tolist())\n",
    "    predictions_2023 = clf.predict(prediction_list)\n",
    "    \n",
    "    print('Model complete!')\n",
    "    \n",
    "    return pred_score, predictions_2023"
   ]
  },
  {
   "cell_type": "code",
   "execution_count": 59,
   "id": "recreational-benefit",
   "metadata": {},
   "outputs": [
    {
     "name": "stdout",
     "output_type": "stream",
     "text": [
      "Model accuracy score: 0.8686274509803922\n",
      "Running model on 2023 data...\n",
      "Model complete!\n"
     ]
    }
   ],
   "source": [
    "pred_score, predictions_2023 = make_2023_prediction(model_df, df_2023, lr_model, test_size=0.25, random_state=0)\n",
    "\n"
   ]
  },
  {
   "cell_type": "code",
   "execution_count": 60,
   "id": "governmental-interest",
   "metadata": {},
   "outputs": [],
   "source": [
    "def create_final_df(df, predictions):\n",
    "    \n",
    "    #add predictions columns per team\n",
    "    df['prediction'] = predictions\n",
    "    df['away_prediction'] = 1-df['prediction']\n",
    "    df = df[['home_team_id','away_team_id','prediction','away_prediction']]\n",
    "    \n",
    "    #add team ids, clean table\n",
    "    df = df.merge(team_ids,how='left', left_on='home_team_id', right_on='id'\n",
    "                 ).merge(team_ids,how='left', left_on='away_team_id', right_on='id'\n",
    "                        ).rename(columns={'full_name_x':'home_team','full_name_y':'away_team'})\n",
    "    \n",
    "    #create home wins df and away wins df, aggregate by team\n",
    "    home_wins = df.groupby('home_team').agg({'prediction':sum}).reset_index()\n",
    "    away_wins = df.groupby('away_team').agg({'away_prediction':sum}).reset_index()\n",
    "    \n",
    "    #merge home and away dfs for total wins column\n",
    "    total_wins = home_wins.merge(away_wins,how='left',left_on='home_team',right_on='away_team')\n",
    "    total_wins['total_wins'] = total_wins['prediction']+total_wins['away_prediction']\n",
    "    \n",
    "    #add conference details, drop irrelevant columns\n",
    "    final_df = total_wins[['home_team','total_wins']].merge(teams[['full_name','conference']],how='left', left_on='home_team', right_on='full_name'\n",
    "                                                       ).drop(columns={'home_team'}).sort_values(by='total_wins', ascending=False)\n",
    "    \n",
    "    #return final df in desired order\n",
    "    return final_df[['full_name','conference','total_wins']].reset_index(drop=True)\n"
   ]
  },
  {
   "cell_type": "code",
   "execution_count": 61,
   "id": "matched-bradley",
   "metadata": {},
   "outputs": [],
   "source": [
    "final_df = create_final_df(df_2023, predictions_2023)"
   ]
  },
  {
   "cell_type": "code",
   "execution_count": 62,
   "id": "educated-think",
   "metadata": {},
   "outputs": [
    {
     "data": {
      "text/html": [
       "<div>\n",
       "<style scoped>\n",
       "    .dataframe tbody tr th:only-of-type {\n",
       "        vertical-align: middle;\n",
       "    }\n",
       "\n",
       "    .dataframe tbody tr th {\n",
       "        vertical-align: top;\n",
       "    }\n",
       "\n",
       "    .dataframe thead th {\n",
       "        text-align: right;\n",
       "    }\n",
       "</style>\n",
       "<table border=\"1\" class=\"dataframe\">\n",
       "  <thead>\n",
       "    <tr style=\"text-align: right;\">\n",
       "      <th></th>\n",
       "      <th>full_name</th>\n",
       "      <th>conference</th>\n",
       "      <th>total_wins</th>\n",
       "    </tr>\n",
       "  </thead>\n",
       "  <tbody>\n",
       "    <tr>\n",
       "      <th>0</th>\n",
       "      <td>Golden State Warriors</td>\n",
       "      <td>West</td>\n",
       "      <td>74</td>\n",
       "    </tr>\n",
       "    <tr>\n",
       "      <th>1</th>\n",
       "      <td>Boston Celtics</td>\n",
       "      <td>East</td>\n",
       "      <td>66</td>\n",
       "    </tr>\n",
       "    <tr>\n",
       "      <th>2</th>\n",
       "      <td>Milwaukee Bucks</td>\n",
       "      <td>East</td>\n",
       "      <td>61</td>\n",
       "    </tr>\n",
       "    <tr>\n",
       "      <th>3</th>\n",
       "      <td>Utah Jazz</td>\n",
       "      <td>West</td>\n",
       "      <td>60</td>\n",
       "    </tr>\n",
       "    <tr>\n",
       "      <th>4</th>\n",
       "      <td>Toronto Raptors</td>\n",
       "      <td>East</td>\n",
       "      <td>58</td>\n",
       "    </tr>\n",
       "  </tbody>\n",
       "</table>\n",
       "</div>"
      ],
      "text/plain": [
       "               full_name conference  total_wins\n",
       "0  Golden State Warriors       West          74\n",
       "1         Boston Celtics       East          66\n",
       "2        Milwaukee Bucks       East          61\n",
       "3              Utah Jazz       West          60\n",
       "4        Toronto Raptors       East          58"
      ]
     },
     "execution_count": 62,
     "metadata": {},
     "output_type": "execute_result"
    }
   ],
   "source": [
    "final_df.head()"
   ]
  },
  {
   "cell_type": "markdown",
   "id": "civilian-progress",
   "metadata": {},
   "source": [
    "## Based on our model, which teams per conference will make the Finals?"
   ]
  },
  {
   "cell_type": "markdown",
   "id": "meaningful-clearance",
   "metadata": {},
   "source": [
    "Time for the final part of our supervised learning portion! Let's see who our model is predicting will make it to the finals for each conference..."
   ]
  },
  {
   "cell_type": "code",
   "execution_count": 63,
   "id": "extended-count",
   "metadata": {},
   "outputs": [],
   "source": [
    "west = final_df[final_df.conference=='West'].head(8)\n",
    "east = final_df[final_df.conference=='East'].head(8)"
   ]
  },
  {
   "cell_type": "code",
   "execution_count": 64,
   "id": "numeric-cylinder",
   "metadata": {
    "scrolled": false
   },
   "outputs": [
    {
     "data": {
      "image/png": "[encoded data removed]",
      "text/plain": [
       "<Figure size 288x432 with 1 Axes>"
      ]
     },
     "metadata": {},
     "output_type": "display_data"
    },
    {
     "data": {
      "image/png": "[encoded data removed]",
      "text/plain": [
       "<Figure size 288x432 with 1 Axes>"
      ]
     },
     "metadata": {},
     "output_type": "display_data"
    }
   ],
   "source": [
    "# Initialize figure\n",
    "f, ax = plt.subplots(figsize=(4, 6))\n",
    "\n",
    "# Plot the total wins\n",
    "sns.set_color_codes(\"colorblind\")\n",
    "sns.barplot(x=\"total_wins\", y=\"full_name\", data=west, color=\"b\")\n",
    "\n",
    "# Add number of wins next to bars\n",
    "for p in ax.patches:\n",
    "    width = p.get_width()\n",
    "    ax.text(width + 1,\n",
    "            p.get_y() + p.get_height() / 2,\n",
    "            '{:1.0f}'.format(width),\n",
    "            ha = 'left',\n",
    "            va = 'center')\n",
    "\n",
    "# Clean up chart\n",
    "plt.box(on=None)\n",
    "plt.xlabel(\"\")\n",
    "plt.ylabel(\"\")\n",
    "ax.get_xaxis().set_visible(False)\n",
    "plt.title(\"Western Conference\");\n",
    "\n",
    "# Initialize figure\n",
    "f, ax = plt.subplots(figsize=(4, 6))\n",
    "\n",
    "# Plot the total wins\n",
    "sns.set_color_codes(\"colorblind\")\n",
    "sns.barplot(x=\"total_wins\", y=\"full_name\", data=east, color=\"g\")\n",
    "\n",
    "# Add number of wins next to bars\n",
    "for p in ax.patches:\n",
    "    width = p.get_width()\n",
    "    ax.text(width + 1,\n",
    "            p.get_y() + p.get_height() / 2,\n",
    "            '{:1.0f}'.format(width),\n",
    "            ha = 'left',\n",
    "            va = 'center')\n",
    "\n",
    "# Clean up chart\n",
    "plt.box(on=None)\n",
    "plt.xlabel(\"\")\n",
    "plt.ylabel(\"\")\n",
    "ax.get_xaxis().set_visible(False)\n",
    "plt.title(\"Eastern Conference\");"
   ]
  },
  {
   "cell_type": "markdown",
   "id": "based-architect",
   "metadata": {},
   "source": [
    "### Opinion"
   ]
  },
  {
   "cell_type": "markdown",
   "id": "delayed-mongolia",
   "metadata": {},
   "source": [
    "Well, as a fan of the NBA, I'd say that some of these teams will very likely make it into the top 8 per conference, BUT some of the teams on this list don't make sense at all, at least in my opinion! There are many limitations to this model. To name a few...\n",
    "<ol>\n",
    "    <li>2023 Prediction Input: we're using the 7-year average per team when stacked against a given team. Teams change every year, and we definitely didn't factor in trades. Will the Utah Jazz even make the top 8 in the Western conference, given the trades that had this summer? We likely should have considered a model that used a weighted average and/or made adjustments based on major trades.</li>\n",
    "    <li>Injuries: Teams experience injuries that ruin a team's chances of doing well. What would happen if Giannis Antetokounmpo had a career-ending injury? Would the Milwaukee Bucks make the Finals?</li>\n",
    "    <li>Just plain bad predictions: As a fan of the NBA, I just don't expect San Antonio Spurs to make the top 8 in the Western Conference at all. Same for the Washington Wizards or Indiana Pacers in the Eastern Conference. If we had more time, we'd assess which features are skewing these team's number of wins. I'd additionally reconsider using the team 7-year stat averages as input for how each team will perform in 2023.</li>\n",
    "</ol>\n",
    "\n",
    "However, at the end of the day, I am generally happy with how the model looks. It doesn't look to unrealistic, but I don't know if I'd put money behind my predictions without putting more time into my models! Overall, this is a great start."
   ]
  }
 ],
 "metadata": {
  "kernelspec": {
   "display_name": "Python 3",
   "language": "python",
   "name": "python3"
  },
  "language_info": {
   "codemirror_mode": {
    "name": "ipython",
    "version": 3
   },
   "file_extension": ".py",
   "mimetype": "text/x-python",
   "name": "python",
   "nbconvert_exporter": "python",
   "pygments_lexer": "ipython3",
   "version": "3.7.10"
  }
 },
 "nbformat": 4,
 "nbformat_minor": 5
}
