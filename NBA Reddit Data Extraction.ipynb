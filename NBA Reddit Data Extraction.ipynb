{
 "cells": [
  {
   "cell_type": "code",
   "execution_count": 1,
   "id": "95302b87",
   "metadata": {},
   "outputs": [],
   "source": [
    "import pandas as pd\n",
    "import requests #Pushshift accesses Reddit via an url so this is needed\n",
    "import json #JSON manipulation\n",
    "import csv #To Convert final table into a csv file to save to your machine\n",
    "import time\n",
    "import datetime\n",
    "import collections"
   ]
  },
  {
   "cell_type": "markdown",
   "id": "f8752f94",
   "metadata": {},
   "source": [
    "## Build function that builds pushshift URLs"
   ]
  },
  {
   "cell_type": "code",
   "execution_count": 2,
   "id": "0b0dfce0",
   "metadata": {},
   "outputs": [],
   "source": [
    "def getPushshiftData(query, after, before, sub):\n",
    "    url = 'https://api.pushshift.io/reddit/search/submission/?title='+str(query)+'&size=1000&after='+str(after)+'&before='+str(before)+'&subreddit='+str(sub)\n",
    "    print(url)\n",
    "    r = requests.get(url)\n",
    "    data = json.loads(r.text)\n",
    "    return data['data']"
   ]
  },
  {
   "cell_type": "markdown",
   "id": "933ecfc4",
   "metadata": {},
   "source": [
    "## Build function to extract key data points"
   ]
  },
  {
   "cell_type": "code",
   "execution_count": 3,
   "id": "feef7b36",
   "metadata": {},
   "outputs": [],
   "source": [
    "#This function will be used to extract the key data points from each JSON result\n",
    "def collectSubData(subm):\n",
    "    subData = list() #list to store data points\n",
    "    title = subm['title']\n",
    "    url = subm['url']\n",
    "    try:\n",
    "        flair = subm['link_flair_text']\n",
    "    except KeyError:\n",
    "        flair = \"NaN\"    \n",
    "    author = subm['author']\n",
    "    sub_id = subm['id']\n",
    "    score = subm['score']\n",
    "    created = datetime.datetime.fromtimestamp(subm['created_utc']) #1520561700.0\n",
    "    numComms = subm['num_comments']\n",
    "    permalink = subm['permalink']\n",
    "    \n",
    "    subData.append((sub_id,title,url,author,score,created,numComms,permalink,flair))\n",
    "    subStats[sub_id] = subData"
   ]
  },
  {
   "cell_type": "markdown",
   "id": "2d3adda6",
   "metadata": {},
   "source": [
    "## Where and what data will we be storing?"
   ]
  },
  {
   "cell_type": "code",
   "execution_count": 4,
   "id": "4107328e",
   "metadata": {},
   "outputs": [],
   "source": [
    "#Subreddit to query\n",
    "sub='nba' #Which Subreddit to search in\n",
    "\n",
    "#before and after dates (use https://www.epochconverter.com/)\n",
    "# 2022 NBA playoffs Apr 16, 2022 – Jun 19, 2022, Finals Jun 2, 2022 - June 16, 2022\n",
    "before = \"1656550800\" #Jun 30 2022\n",
    "after = \"1649901600\"  #Apr 14 2022\n",
    "\n",
    "# 2022 NBA regular season Oct 19, 2021 – Apr 10, 2022\n",
    "# before = \"1649638800\" #Apr 11 2022\n",
    "# after = \"1634518800\"  #Oct 18 2021\n",
    "\n",
    "#Keyword(s) to look for in submissions\n",
    "query = \"nba\" \n",
    "subCount = 0\n",
    "subStats = {}"
   ]
  },
  {
   "cell_type": "markdown",
   "id": "55be1992",
   "metadata": {},
   "source": [
    "## Run code and loop until all submissions are collected"
   ]
  },
  {
   "cell_type": "code",
   "execution_count": 5,
   "id": "cbec144d",
   "metadata": {
    "scrolled": true
   },
   "outputs": [
    {
     "name": "stdout",
     "output_type": "stream",
     "text": [
      "https://api.pushshift.io/reddit/search/submission/?title=nba&size=1000&after=1649901600&before=1656550800&subreddit=nba\n",
      "250\n",
      "2022-04-18 12:29:29\n",
      "https://api.pushshift.io/reddit/search/submission/?title=nba&size=1000&after=1650310169&before=1656550800&subreddit=nba\n",
      "249\n",
      "2022-04-23 10:44:38\n",
      "https://api.pushshift.io/reddit/search/submission/?title=nba&size=1000&after=1650735878&before=1656550800&subreddit=nba\n",
      "250\n",
      "2022-04-27 16:58:28\n",
      "https://api.pushshift.io/reddit/search/submission/?title=nba&size=1000&after=1651103908&before=1656550800&subreddit=nba\n",
      "250\n",
      "2022-05-02 18:11:32\n",
      "https://api.pushshift.io/reddit/search/submission/?title=nba&size=1000&after=1651540292&before=1656550800&subreddit=nba\n",
      "247\n",
      "2022-05-08 11:17:30\n",
      "https://api.pushshift.io/reddit/search/submission/?title=nba&size=1000&after=1652033850&before=1656550800&subreddit=nba\n",
      "249\n",
      "2022-05-12 16:16:55\n",
      "https://api.pushshift.io/reddit/search/submission/?title=nba&size=1000&after=1652397415&before=1656550800&subreddit=nba\n",
      "250\n",
      "2022-05-16 14:58:41\n",
      "https://api.pushshift.io/reddit/search/submission/?title=nba&size=1000&after=1652738321&before=1656550800&subreddit=nba\n",
      "249\n",
      "2022-05-20 17:34:00\n",
      "https://api.pushshift.io/reddit/search/submission/?title=nba&size=1000&after=1653093240&before=1656550800&subreddit=nba\n",
      "249\n",
      "2022-05-25 07:23:47\n",
      "https://api.pushshift.io/reddit/search/submission/?title=nba&size=1000&after=1653488627&before=1656550800&subreddit=nba\n",
      "250\n",
      "2022-05-29 20:29:04\n",
      "https://api.pushshift.io/reddit/search/submission/?title=nba&size=1000&after=1653881344&before=1656550800&subreddit=nba\n",
      "248\n",
      "2022-06-02 12:16:48\n",
      "https://api.pushshift.io/reddit/search/submission/?title=nba&size=1000&after=1654197408&before=1656550800&subreddit=nba\n",
      "247\n",
      "2022-06-06 17:29:40\n",
      "https://api.pushshift.io/reddit/search/submission/?title=nba&size=1000&after=1654561780&before=1656550800&subreddit=nba\n",
      "249\n",
      "2022-06-10 21:31:23\n",
      "https://api.pushshift.io/reddit/search/submission/?title=nba&size=1000&after=1654921883&before=1656550800&subreddit=nba\n",
      "250\n",
      "2022-06-15 12:09:36\n",
      "https://api.pushshift.io/reddit/search/submission/?title=nba&size=1000&after=1655320176&before=1656550800&subreddit=nba\n",
      "249\n",
      "2022-06-17 09:43:37\n",
      "https://api.pushshift.io/reddit/search/submission/?title=nba&size=1000&after=1655484217&before=1656550800&subreddit=nba\n",
      "248\n",
      "2022-06-20 03:55:25\n",
      "https://api.pushshift.io/reddit/search/submission/?title=nba&size=1000&after=1655722525&before=1656550800&subreddit=nba\n",
      "249\n",
      "2022-06-22 22:49:15\n",
      "https://api.pushshift.io/reddit/search/submission/?title=nba&size=1000&after=1655963355&before=1656550800&subreddit=nba\n",
      "249\n",
      "2022-06-24 09:02:36\n",
      "https://api.pushshift.io/reddit/search/submission/?title=nba&size=1000&after=1656086556&before=1656550800&subreddit=nba\n",
      "248\n",
      "2022-06-28 11:19:33\n",
      "https://api.pushshift.io/reddit/search/submission/?title=nba&size=1000&after=1656440373&before=1656550800&subreddit=nba\n",
      "123\n",
      "2022-06-29 17:50:07\n",
      "https://api.pushshift.io/reddit/search/submission/?title=nba&size=1000&after=1656550207&before=1656550800&subreddit=nba\n",
      "0\n"
     ]
    }
   ],
   "source": [
    "# We need to run this function outside the loop first to get the updated after variable\n",
    "data = getPushshiftData(query, after, before, sub)\n",
    "# Will run until all posts have been gathered \n",
    "# from the 'after' date up until before date\n",
    "while len(data) > 0:\n",
    "    for submission in data:\n",
    "        collectSubData(submission)\n",
    "        subCount+=1\n",
    "    # Calls getPushshiftData() with the created date of the last submission\n",
    "    print(len(data))\n",
    "    print(str(datetime.datetime.fromtimestamp(data[-1]['created_utc'])))\n",
    "    after = data[-1]['created_utc']\n",
    "    data = getPushshiftData(query, after, before, sub)\n",
    "    \n",
    "print(len(data))"
   ]
  },
  {
   "cell_type": "markdown",
   "id": "90fa21e7",
   "metadata": {},
   "source": [
    "## Check Submission"
   ]
  },
  {
   "cell_type": "code",
   "execution_count": 6,
   "id": "e139916b",
   "metadata": {},
   "outputs": [
    {
     "name": "stdout",
     "output_type": "stream",
     "text": [
      "4853 submissions have added to list\n",
      "1st entry is:\n",
      "Former Dallas Maverick &amp; First Indian born player in the NBA, Satnam Singh just made his professional wrestling debut for AEW created: 2022-04-13 19:12:32\n",
      "Last entry is:\n",
      "With the spurs trading Dejounte Murray to the Hawks is this the most competitive the NBA has ever been? created: 2022-06-29 17:50:07\n"
     ]
    }
   ],
   "source": [
    "print(str(len(subStats)) + \" submissions have added to list\")\n",
    "print(\"1st entry is:\")\n",
    "print(list(subStats.values())[0][0][1] + \" created: \" + str(list(subStats.values())[0][0][5]))\n",
    "print(\"Last entry is:\")\n",
    "print(list(subStats.values())[-1][0][1] + \" created: \" + str(list(subStats.values())[-1][0][5]))"
   ]
  },
  {
   "cell_type": "code",
   "execution_count": 7,
   "id": "40406923",
   "metadata": {},
   "outputs": [
    {
     "name": "stdout",
     "output_type": "stream",
     "text": [
      "input filename of submission file, please add .csv\n",
      "nba.csv\n",
      "4853 submissions have been uploaded into a csv file\n"
     ]
    }
   ],
   "source": [
    "def update_sub_file():\n",
    "    upload_count = 0\n",
    "    location = \"/Users/levinadong/Desktop/\"\n",
    "    print(\"input filename of submission file, please add .csv\")\n",
    "    filename = input()\n",
    "    file = location + filename\n",
    "    with open(file, 'w', newline='', encoding='utf-8') as file:\n",
    "        a = csv.writer(file, delimiter=',')\n",
    "        headers = [\"Post ID\",\"Title\",\"Url\",\"Author\",\"Score\",\"Publish Date\",\"Total No. of Comments\",\"Permalink\",\"Flair\"]\n",
    "        a.writerow(headers)\n",
    "        for sub in subStats:\n",
    "            a.writerow(subStats[sub][0])\n",
    "            upload_count+=1\n",
    "\n",
    "        print(str(upload_count) + \" submissions have been uploaded into a csv file\")\n",
    "        \n",
    "update_sub_file()"
   ]
  },
  {
   "cell_type": "code",
   "execution_count": null,
   "id": "99901ad9",
   "metadata": {},
   "outputs": [],
   "source": []
  },
  {
   "cell_type": "code",
   "execution_count": null,
   "id": "7450cee1",
   "metadata": {},
   "outputs": [],
   "source": []
  }
 ],
 "metadata": {
  "kernelspec": {
   "display_name": "Python 3 (ipykernel)",
   "language": "python",
   "name": "python3"
  },
  "language_info": {
   "codemirror_mode": {
    "name": "ipython",
    "version": 3
   },
   "file_extension": ".py",
   "mimetype": "text/x-python",
   "name": "python",
   "nbconvert_exporter": "python",
   "pygments_lexer": "ipython3",
   "version": "3.9.13"
  }
 },
 "nbformat": 4,
 "nbformat_minor": 5
}
